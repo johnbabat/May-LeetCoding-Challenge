{
 "cells": [
  {
   "cell_type": "markdown",
   "metadata": {},
   "source": [
    "### Day 1: First Bad Version\n",
    "\n",
    "You are a product manager and currently leading a team to develop a new product. Unfortunately, the latest version of your product fails the quality check. Since each version is developed based on the previous version, all the versions after a bad version are also bad.\n",
    "\n",
    "Suppose you have n versions [1, 2, ..., n] and you want to find out the first bad one, which causes all the following ones to be bad.\n",
    "\n",
    "You are given an API bool isBadVersion(version) which will return whether version is bad. Implement a function to find the first bad version. You should minimize the number of calls to the API.\n",
    "\n",
    "Example:\n",
    "\n",
    "Given n = 5, and version = 4 is the first bad version.\n",
    "\n",
    "- call isBadVersion(3) -> false\n",
    "- call isBadVersion(5) -> true\n",
    "- call isBadVersion(4) -> true\n",
    "\n",
    "Then 4 is the first bad version. "
   ]
  },
  {
   "cell_type": "code",
   "execution_count": 1,
   "metadata": {},
   "outputs": [],
   "source": [
    "# The isBadVersion API is already defined for you.\n",
    "# @param version, an integer\n",
    "# @return a bool\n",
    "# def isBadVersion(version):\n",
    "\n",
    "class Solution:\n",
    "    def firstBadVersion(self, n):\n",
    "        high = n\n",
    "        low = 1\n",
    "        \n",
    "        while low < high:\n",
    "            mid = (high + low) // 2\n",
    "            if isBadVersion(mid):\n",
    "                high = mid\n",
    "            else:\n",
    "                low = mid + 1\n",
    "        return low"
   ]
  },
  {
   "cell_type": "code",
   "execution_count": null,
   "metadata": {},
   "outputs": [],
   "source": []
  },
  {
   "cell_type": "markdown",
   "metadata": {},
   "source": [
    "### Day 18: Permutation in String\n",
    "\n",
    "Given two strings s1 and s2, write a function to return true if s2 contains the permutation of s1. In other words, one of the first string's permutations is the substring of the second string.\n",
    "\n",
    " \n",
    "\n",
    "Example 1:\n",
    "\n",
    "- Input: s1 = \"ab\" s2 = \"eidbaooo\"\n",
    "- Output: True\n",
    "- Explanation: s2 contains one permutation of s1 (\"ba\").\n",
    "Example 2:\n",
    "\n",
    "- Input:s1= \"ab\" s2 = \"eidboaoo\"\n",
    "- Output: False\n",
    " \n",
    "\n",
    "Constraints:\n",
    "\n",
    "- The input strings only contain lower case letters.\n",
    "- The length of both given strings is in range [1, 10,000]."
   ]
  },
  {
   "cell_type": "code",
   "execution_count": 12,
   "metadata": {},
   "outputs": [],
   "source": [
    "class Solution:\n",
    "    def checkInclusion(self, s1: str, s2: str) -> bool:\n",
    "        store, check, len1 = {'.':0}, {'.':0}, len(s1)\n",
    "        \n",
    "        for char in s1:\n",
    "            if char in store: store[char]+=1\n",
    "            else: store[char] = 1; check[char] = 0\n",
    "                \n",
    "        for i in range(len(s2)):\n",
    "            if s2[i] in store: store[s2[i]]-=1\n",
    "            else: store['.']-=1\n",
    "            if i >= len1:\n",
    "                if s2[i-len1] in store: store[s2[i-len1]] += 1\n",
    "                else: store['.'] += 1\n",
    "            if store == check: return True\n",
    "        return False"
   ]
  },
  {
   "cell_type": "code",
   "execution_count": 16,
   "metadata": {},
   "outputs": [],
   "source": [
    "# Test Code\n",
    "\n",
    "input1_s1, input1_s2 = \"ab\", \"eidbaooo\"\n",
    "input2_s1, input2_s2 = \"ab\", \"eidboaoo\"\n",
    "\n",
    "sol = Solution()"
   ]
  },
  {
   "cell_type": "code",
   "execution_count": 17,
   "metadata": {},
   "outputs": [
    {
     "data": {
      "text/plain": [
       "True"
      ]
     },
     "execution_count": 17,
     "metadata": {},
     "output_type": "execute_result"
    }
   ],
   "source": [
    "sol.checkInclusion(input1_s1, input1_s2)"
   ]
  },
  {
   "cell_type": "code",
   "execution_count": 18,
   "metadata": {},
   "outputs": [
    {
     "data": {
      "text/plain": [
       "False"
      ]
     },
     "execution_count": 18,
     "metadata": {},
     "output_type": "execute_result"
    }
   ],
   "source": [
    "sol.checkInclusion(input2_s1, input2_s2)"
   ]
  },
  {
   "cell_type": "markdown",
   "metadata": {},
   "source": [
    "### Day 19: Online Stock Span\n",
    "\n",
    "Write a class StockSpanner which collects daily price quotes for some stock, and returns the span of that stock's price for the current day.\n",
    "\n",
    "The span of the stock's price today is defined as the maximum number of consecutive days (starting from today and going backwards) for which the price of the stock was less than or equal to today's price.\n",
    "\n",
    "For example, if the price of a stock over the next 7 days were [100, 80, 60, 70, 60, 75, 85], then the stock spans would be [1, 1, 1, 2, 1, 4, 6].\n",
    "\n",
    " \n",
    "\n",
    "Example 1:\n",
    "\n",
    "- Input: [\"StockSpanner\",\"next\",\"next\",\"next\",\"next\",\"next\",\"next\",\"next\"], [[],[100],[80],[60],[70],[60],[75],[85]]\n",
    "- Output: [null,1,1,1,2,1,4,6]\n",
    "Explanation: \n",
    "First, S = StockSpanner() is initialized.  Then:\n",
    "- S.next(100) is called and returns 1,\n",
    "- S.next(80) is called and returns 1,\n",
    "- S.next(60) is called and returns 1,\n",
    "- S.next(70) is called and returns 2,\n",
    "- S.next(60) is called and returns 1,\n",
    "- S.next(75) is called and returns 4,\n",
    "- S.next(85) is called and returns 6.\n",
    "\n",
    "Note that (for example) S.next(75) returned 4, because the last 4 prices\n",
    "(including today's price of 75) were less than or equal to today's price.\n",
    "\n",
    "Note:\n",
    "\n",
    "- Calls to StockSpanner.next(int price) will have 1 <= price <= 10^5.\n",
    "- There will be at most 10000 calls to StockSpanner.next per test case.\n",
    "- There will be at most 150000 calls to StockSpanner.next across all test cases.\n",
    "- The total time limit for this problem has been reduced by 75% for C++, and 50% for all other languages."
   ]
  },
  {
   "cell_type": "code",
   "execution_count": 7,
   "metadata": {},
   "outputs": [],
   "source": [
    "class StockSpanner:\n",
    "    def __init__(self):\n",
    "        self.items = []\n",
    "\n",
    "    def next(self, price: int) -> int:\n",
    "        cur = 1\n",
    "        while self.items and price >= self.items[-1][0]:\n",
    "            cur += self.items.pop()[1]\n",
    "        self.items.append((price, cur))\n",
    "        return cur"
   ]
  },
  {
   "cell_type": "code",
   "execution_count": 11,
   "metadata": {},
   "outputs": [
    {
     "name": "stdout",
     "output_type": "stream",
     "text": [
      "1 , 1 , 1 , 2 , 1 , 4 , 6\n"
     ]
    }
   ],
   "source": [
    "# Test Code\n",
    "\n",
    "S = StockSpanner()\n",
    "print(S.next(100),',',S.next(80),',',S.next(60),',',S.next(70),',',S.next(60),',',S.next(75),',',S.next(85))"
   ]
  },
  {
   "cell_type": "markdown",
   "metadata": {},
   "source": [
    "### Day 20: Kth Smallest Element in a BST\n",
    "\n",
    "Given a binary search tree, write a function kthSmallest to find the kth smallest element in it.\n",
    "\n",
    " \n",
    "\n",
    "Example 1:\n",
    "\n",
    "Input: root = [3,1,4,null,2], k = 1\n",
    "\n",
    "       3\n",
    "      / \\\n",
    "     1   4\n",
    "      \\\n",
    "       2\n",
    "       \n",
    "Output: 1\n",
    "Example 2:\n",
    "\n",
    "Input: root = [5,3,6,2,4,null,null,1], k = 3\n",
    "\n",
    "           5\n",
    "          / \\\n",
    "         3   6\n",
    "        / \\\n",
    "       2   4\n",
    "      /\n",
    "     1\n",
    " \n",
    "Output: 3\n",
    "\n",
    "Follow up:\n",
    "What if the BST is modified (insert/delete operations) often and you need to find the kth smallest frequently? How would you optimize the kthSmallest routine?\n",
    "\n",
    " \n",
    "Constraints:\n",
    "\n",
    "- The number of elements of the BST is between 1 to 10^4.\n",
    "- You may assume k is always valid, 1 ≤ k ≤ BST's total elements."
   ]
  },
  {
   "cell_type": "code",
   "execution_count": 6,
   "metadata": {},
   "outputs": [],
   "source": [
    "class Solution:\n",
    "    def kthSmallest(self, root, k: int) -> int:\n",
    "        stack = []\n",
    "        cur = root\n",
    "        \n",
    "        while True:\n",
    "            if cur is not None:\n",
    "                stack.append(cur)\n",
    "                cur = cur.left\n",
    "            elif stack:\n",
    "                k-=1\n",
    "                cur = stack.pop()\n",
    "                if k == 0: return cur.val\n",
    "                cur = cur.right\n",
    "            else: break"
   ]
  },
  {
   "cell_type": "markdown",
   "metadata": {},
   "source": [
    "### Day 21: Count Square Submatrices with All Ones\n",
    "\n",
    "Given a m * n matrix of ones and zeros, return how many square submatrices have all ones.\n",
    " \n",
    "Example 1:\n",
    "\n",
    "Input: matrix =\n",
    "\n",
    "    [[0,1,1,1],\n",
    "    [1,1,1,1],\n",
    "    [0,1,1,1]]\n",
    "\n",
    "Output: 15\n",
    "\n",
    "Explanation: \n",
    "- There are 10 squares of side 1.\n",
    "- There are 4 squares of side 2.\n",
    "- There is  1 square of side 3.\n",
    "- Total number of squares = 10 + 4 + 1 = 15.\n",
    "\n",
    "Example 2:\n",
    "\n",
    "Input: matrix =\n",
    "\n",
    "    [[1,0,1],\n",
    "    [1,1,0],\n",
    "    [1,1,0]]\n",
    "\n",
    "Output: 7\n",
    "\n",
    "Explanation: \n",
    "- There are 6 squares of side 1.  \n",
    "- There is 1 square of side 2. \n",
    "- Total number of squares = 6 + 1 = 7.\n",
    " \n",
    "\n",
    "Constraints:\n",
    "\n",
    "- 1 <= arr.length <= 300\n",
    "- 1 <= arr[0].length <= 300\n",
    "- 0 <= arr[i][j] <= 1"
   ]
  },
  {
   "cell_type": "code",
   "execution_count": 2,
   "metadata": {},
   "outputs": [],
   "source": [
    "class Solution:\n",
    "    def countSquares(self, matrix) -> int:\n",
    "        m, n = len(matrix), len(matrix[0])\n",
    "        count = 0\n",
    "        for i in range(m):\n",
    "            for j in range(n):\n",
    "                if matrix[i][j] == 1:\n",
    "                    if i > 0 and j > 0:\n",
    "                        matrix[i][j] = min(matrix[i-1][j-1], matrix[i-1][j], matrix[i][j-1])+1\n",
    "                    count+=matrix[i][j]\n",
    "        return count"
   ]
  },
  {
   "cell_type": "code",
   "execution_count": 3,
   "metadata": {},
   "outputs": [],
   "source": [
    "# Test Code\n",
    "\n",
    "inputMatrix1 = [[0,1,1,1],\n",
    "                [1,1,1,1],\n",
    "                [0,1,1,1]]\n",
    "inputMatrix2 = [[1,0,1],\n",
    "                [1,1,0],\n",
    "                [1,1,0]]\n",
    "\n",
    "sol = Solution()"
   ]
  },
  {
   "cell_type": "code",
   "execution_count": 4,
   "metadata": {},
   "outputs": [
    {
     "data": {
      "text/plain": [
       "15"
      ]
     },
     "execution_count": 4,
     "metadata": {},
     "output_type": "execute_result"
    }
   ],
   "source": [
    "sol.countSquares(inputMatrix1)"
   ]
  },
  {
   "cell_type": "code",
   "execution_count": 5,
   "metadata": {},
   "outputs": [
    {
     "data": {
      "text/plain": [
       "7"
      ]
     },
     "execution_count": 5,
     "metadata": {},
     "output_type": "execute_result"
    }
   ],
   "source": [
    "sol.countSquares(inputMatrix2)"
   ]
  },
  {
   "cell_type": "markdown",
   "metadata": {},
   "source": [
    "### Day 22: Sort Characters By Frequency\n",
    "\n",
    "Given a string, sort it in decreasing order based on the frequency of characters.\n",
    "\n",
    "Example 1:\n",
    "\n",
    "Input:\n",
    "\"tree\"\n",
    "\n",
    "Output:\n",
    "\"eert\"\n",
    "\n",
    "Explanation:\n",
    "- 'e' appears twice while 'r' and 't' both appear once.\n",
    "- So 'e' must appear before both 'r' and 't'. Therefore \"eetr\" is also a valid answer.\n",
    "\n",
    "Example 2:\n",
    "\n",
    "Input:\n",
    "\"cccaaa\"\n",
    "\n",
    "Output:\n",
    "\"cccaaa\"\n",
    "\n",
    "Explanation:\n",
    "- Both 'c' and 'a' appear three times, so \"aaaccc\" is also a valid answer.\n",
    "- Note that \"cacaca\" is incorrect, as the same characters must be together.\n",
    "\n",
    "Example 3:\n",
    "\n",
    "Input:\n",
    "\"Aabb\"\n",
    "\n",
    "Output:\n",
    "\"bbAa\"\n",
    "\n",
    "Explanation:\n",
    "- \"bbaA\" is also a valid answer, but \"Aabb\" is incorrect.\n",
    "- Note that 'A' and 'a' are treated as two different characters."
   ]
  },
  {
   "cell_type": "code",
   "execution_count": 19,
   "metadata": {},
   "outputs": [],
   "source": [
    "class Solution:\n",
    "    def frequencySort(self, s: str) -> str:\n",
    "        \n",
    "        if not s: return s\n",
    "        \n",
    "        store, res = {}, []\n",
    "        for i in s:\n",
    "            if i in store: store[i] += 1\n",
    "            else: store[i] = 1\n",
    "                \n",
    "        bucket = [[] for _ in range(max(store.values())+1)]\n",
    "        for k, v in store.items(): bucket[v].append(k)\n",
    "                \n",
    "        for i in range(len(bucket)-1, 0, -1):\n",
    "            for j in bucket[i]: res.append(j*i)\n",
    "                \n",
    "        return \"\".join(res)"
   ]
  },
  {
   "cell_type": "code",
   "execution_count": 20,
   "metadata": {},
   "outputs": [],
   "source": [
    "# Test Code\n",
    "\n",
    "input1 = \"tree\"\n",
    "input2 = \"cccaaa\"\n",
    "input3 = \"Aabb\"\n",
    "\n",
    "sol = Solution()"
   ]
  },
  {
   "cell_type": "code",
   "execution_count": 21,
   "metadata": {},
   "outputs": [
    {
     "data": {
      "text/plain": [
       "'eetr'"
      ]
     },
     "execution_count": 21,
     "metadata": {},
     "output_type": "execute_result"
    }
   ],
   "source": [
    "sol.frequencySort(input1)"
   ]
  },
  {
   "cell_type": "code",
   "execution_count": 22,
   "metadata": {},
   "outputs": [
    {
     "data": {
      "text/plain": [
       "'cccaaa'"
      ]
     },
     "execution_count": 22,
     "metadata": {},
     "output_type": "execute_result"
    }
   ],
   "source": [
    "sol.frequencySort(input2)"
   ]
  },
  {
   "cell_type": "code",
   "execution_count": 23,
   "metadata": {},
   "outputs": [
    {
     "data": {
      "text/plain": [
       "'bbAa'"
      ]
     },
     "execution_count": 23,
     "metadata": {},
     "output_type": "execute_result"
    }
   ],
   "source": [
    "sol.frequencySort(input3)"
   ]
  },
  {
   "cell_type": "code",
   "execution_count": null,
   "metadata": {},
   "outputs": [],
   "source": []
  }
 ],
 "metadata": {
  "kernelspec": {
   "display_name": "Python 3",
   "language": "python",
   "name": "python3"
  },
  "language_info": {
   "codemirror_mode": {
    "name": "ipython",
    "version": 3
   },
   "file_extension": ".py",
   "mimetype": "text/x-python",
   "name": "python",
   "nbconvert_exporter": "python",
   "pygments_lexer": "ipython3",
   "version": "3.6.7"
  }
 },
 "nbformat": 4,
 "nbformat_minor": 2
}
