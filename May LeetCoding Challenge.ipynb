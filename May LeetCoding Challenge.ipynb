{
 "cells": [
  {
   "cell_type": "markdown",
   "metadata": {},
   "source": [
    "### Day 1: First Bad Version\n",
    "\n",
    "You are a product manager and currently leading a team to develop a new product. Unfortunately, the latest version of your product fails the quality check. Since each version is developed based on the previous version, all the versions after a bad version are also bad.\n",
    "\n",
    "Suppose you have n versions [1, 2, ..., n] and you want to find out the first bad one, which causes all the following ones to be bad.\n",
    "\n",
    "You are given an API bool isBadVersion(version) which will return whether version is bad. Implement a function to find the first bad version. You should minimize the number of calls to the API.\n",
    "\n",
    "Example:\n",
    "\n",
    "Given n = 5, and version = 4 is the first bad version.\n",
    "\n",
    "- call isBadVersion(3) -> false\n",
    "- call isBadVersion(5) -> true\n",
    "- call isBadVersion(4) -> true\n",
    "\n",
    "Then 4 is the first bad version. "
   ]
  },
  {
   "cell_type": "code",
   "execution_count": 1,
   "metadata": {},
   "outputs": [],
   "source": [
    "# The isBadVersion API is already defined for you.\n",
    "# @param version, an integer\n",
    "# @return a bool\n",
    "# def isBadVersion(version):\n",
    "\n",
    "class Solution:\n",
    "    def firstBadVersion(self, n):\n",
    "        high = n\n",
    "        low = 1\n",
    "        \n",
    "        # Use binary search to find bad verson in log(n) time\n",
    "        while low < high:\n",
    "            mid = (high + low) // 2\n",
    "            if isBadVersion(mid):\n",
    "                high = mid\n",
    "            else:\n",
    "                low = mid + 1\n",
    "        return low"
   ]
  },
  {
   "cell_type": "markdown",
   "metadata": {},
   "source": [
    "### Day 2: Jewels and Stones\n",
    "\n",
    "You're given strings J representing the types of stones that are jewels, and S representing the stones you have.  Each character in S is a type of stone you have.  You want to know how many of the stones you have are also jewels.\n",
    "\n",
    "The letters in J are guaranteed distinct, and all characters in J and S are letters. Letters are case sensitive, so \"a\" is considered a different type of stone from \"A\".\n",
    "\n",
    "Example 1:\n",
    "\n",
    "Input: J = \"aA\", S = \"aAAbbbb\"\n",
    "Output: 3\n",
    "Example 2:\n",
    "\n",
    "Input: J = \"z\", S = \"ZZ\"\n",
    "Output: 0\n",
    "Note:\n",
    "\n",
    "S and J will consist of letters and have length at most 50.\n",
    "The characters in J are distinct."
   ]
  },
  {
   "cell_type": "code",
   "execution_count": 47,
   "metadata": {},
   "outputs": [],
   "source": [
    "class Solution:\n",
    "    def numJewelsInStones(self, J: str, S: str) -> int:\n",
    "        J = set(J)\n",
    "        count = 0\n",
    "        for i in S:\n",
    "            if i in J:\n",
    "                count+=1\n",
    "        return count"
   ]
  },
  {
   "cell_type": "code",
   "execution_count": 48,
   "metadata": {},
   "outputs": [
    {
     "data": {
      "text/plain": [
       "2"
      ]
     },
     "execution_count": 48,
     "metadata": {},
     "output_type": "execute_result"
    }
   ],
   "source": [
    "# Test Code\n",
    "\n",
    "J1, S1 = \"aA\", \"aAAbbbb\"\n",
    "J2, S2 = \"z\", \"ZZ\"\n",
    "\n",
    "sol = Solution()\n",
    "sol.numJewelsInStones(S1, J1)"
   ]
  },
  {
   "cell_type": "code",
   "execution_count": 49,
   "metadata": {},
   "outputs": [
    {
     "data": {
      "text/plain": [
       "0"
      ]
     },
     "execution_count": 49,
     "metadata": {},
     "output_type": "execute_result"
    }
   ],
   "source": [
    "sol.numJewelsInStones(S2, J2)"
   ]
  },
  {
   "cell_type": "markdown",
   "metadata": {},
   "source": [
    "### Day 3: Ransom Note\n",
    "\n",
    "Given an arbitrary ransom note string and another string containing letters from all the magazines, write a function that will return true if the ransom note can be constructed from the magazines ; otherwise, it will return false.\n",
    "\n",
    "Each letter in the magazine string can only be used once in your ransom note.\n",
    "\n",
    "\n",
    "Example 1:\n",
    "\n",
    "- Input: ransomNote = \"a\", magazine = \"b\"\n",
    "- Output: false\n",
    "\n",
    "Example 2:\n",
    "\n",
    "- Input: ransomNote = \"aa\", magazine = \"ab\"\n",
    "- Output: false\n",
    "\n",
    "Example 3:\n",
    "\n",
    "- Input: ransomNote = \"aa\", magazine = \"aab\"\n",
    "- Output: true\n",
    " \n",
    "\n",
    "Constraints:\n",
    "- You may assume that both strings contain only lowercase letters."
   ]
  },
  {
   "cell_type": "code",
   "execution_count": 50,
   "metadata": {},
   "outputs": [],
   "source": [
    "class Solution:\n",
    "    def canConstruct(self, ransomNote: str, magazine: str) -> bool:\n",
    "        storeNote = {}\n",
    "        for i in ransomNote:\n",
    "            if i in storeNote: \n",
    "                storeNote[i] += 1\n",
    "            else: storeNote[i] = 1\n",
    "        for i in magazine:\n",
    "            if i in storeNote:\n",
    "                storeNote[i]-=1\n",
    "                if storeNote[i] == 0:\n",
    "                    del storeNote[i]\n",
    "        return not storeNote"
   ]
  },
  {
   "cell_type": "code",
   "execution_count": 52,
   "metadata": {},
   "outputs": [
    {
     "data": {
      "text/plain": [
       "False"
      ]
     },
     "execution_count": 52,
     "metadata": {},
     "output_type": "execute_result"
    }
   ],
   "source": [
    "# Test Code\n",
    "\n",
    "ransomNote1, magazine1 = \"a\", \"b\"\n",
    "ransomNote2, magazine2 = \"aa\", \"ab\"\n",
    "ransomNote3, magazine3 = \"aa\", \"aab\"\n",
    "\n",
    "sol = Solution()\n",
    "sol.canConstruct(ransomNote1, magazine1)"
   ]
  },
  {
   "cell_type": "code",
   "execution_count": 54,
   "metadata": {},
   "outputs": [
    {
     "data": {
      "text/plain": [
       "False"
      ]
     },
     "execution_count": 54,
     "metadata": {},
     "output_type": "execute_result"
    }
   ],
   "source": [
    "sol.canConstruct(ransomNote2, magazine2)"
   ]
  },
  {
   "cell_type": "code",
   "execution_count": 55,
   "metadata": {},
   "outputs": [
    {
     "data": {
      "text/plain": [
       "True"
      ]
     },
     "execution_count": 55,
     "metadata": {},
     "output_type": "execute_result"
    }
   ],
   "source": [
    "sol.canConstruct(ransomNote3, magazine3)"
   ]
  },
  {
   "cell_type": "markdown",
   "metadata": {},
   "source": [
    "### Day 4: Number Complement\n",
    "\n",
    "Given a positive integer num, output its complement number. The complement strategy is to flip the bits of its binary representation.\n",
    "\n",
    "Example 1:\n",
    "\n",
    "- Input: num = 5\n",
    "- Output: 2\n",
    "- Explanation: The binary representation of 5 is 101 (no leading zero bits), and its complement is 010. So you need to output 2.\n",
    "\n",
    "Example 2:\n",
    "\n",
    "- Input: num = 1\n",
    "- Output: 0\n",
    "- Explanation: The binary representation of 1 is 1 (no leading zero bits), and its complement is 0. So you need to output 0.\n",
    " \n",
    "\n",
    "Constraints:\n",
    "\n",
    "- The given integer num is guaranteed to fit within the range of a 32-bit signed integer.\n",
    "- num >= 1\n",
    "- You could assume no leading zero bit in the integer’s binary representation."
   ]
  },
  {
   "cell_type": "code",
   "execution_count": null,
   "metadata": {},
   "outputs": [],
   "source": [
    "import math"
   ]
  },
  {
   "cell_type": "code",
   "execution_count": 59,
   "metadata": {},
   "outputs": [],
   "source": [
    "class Solution:\n",
    "    def findComplement(self, num: int) -> int:\n",
    "        return 2**int(math.log2(num) + 1) - 1 - num"
   ]
  },
  {
   "cell_type": "code",
   "execution_count": 60,
   "metadata": {},
   "outputs": [
    {
     "data": {
      "text/plain": [
       "2"
      ]
     },
     "execution_count": 60,
     "metadata": {},
     "output_type": "execute_result"
    }
   ],
   "source": [
    "# Test Code\n",
    "num1 = 5\n",
    "num2 = 1\n",
    "\n",
    "sol = Solution()\n",
    "sol.findComplement(num1)"
   ]
  },
  {
   "cell_type": "code",
   "execution_count": 61,
   "metadata": {},
   "outputs": [
    {
     "data": {
      "text/plain": [
       "0"
      ]
     },
     "execution_count": 61,
     "metadata": {},
     "output_type": "execute_result"
    }
   ],
   "source": [
    "sol.findComplement(num2)"
   ]
  },
  {
   "cell_type": "markdown",
   "metadata": {},
   "source": [
    "### Day 5: First Unique Character in a String\n",
    "\n",
    "Given a string, find the first non-repeating character in it and return it's index. If it doesn't exist, return -1.\n",
    "\n",
    "Examples:\n",
    "\n",
    "s = \"leetcode\"\n",
    "return 0.\n",
    "\n",
    "s = \"loveleetcode\",\n",
    "return 2.\n",
    "\n",
    "Note: You may assume the string contain only lowercase letters."
   ]
  },
  {
   "cell_type": "code",
   "execution_count": 70,
   "metadata": {},
   "outputs": [],
   "source": [
    "class Solution:\n",
    "    def firstUniqChar(self, s: str) -> int:\n",
    "        store = {}\n",
    "        for i in s:\n",
    "            if i in store:\n",
    "                store[i] += 1\n",
    "            else: store[i] = 1\n",
    "                \n",
    "        for i in range(len(s)):\n",
    "            if store[s[i]] == 1:\n",
    "                return i\n",
    "        return -1"
   ]
  },
  {
   "cell_type": "code",
   "execution_count": 73,
   "metadata": {},
   "outputs": [
    {
     "data": {
      "text/plain": [
       "0"
      ]
     },
     "execution_count": 73,
     "metadata": {},
     "output_type": "execute_result"
    }
   ],
   "source": [
    "# Test Code\n",
    "\n",
    "s1 = \"leetcode\"\n",
    "s2 = \"loveleetcode\"\n",
    "\n",
    "sol = Solution()\n",
    "sol.firstUniqChar(s1)"
   ]
  },
  {
   "cell_type": "code",
   "execution_count": 74,
   "metadata": {},
   "outputs": [
    {
     "data": {
      "text/plain": [
       "2"
      ]
     },
     "execution_count": 74,
     "metadata": {},
     "output_type": "execute_result"
    }
   ],
   "source": [
    "sol.firstUniqChar(s2)"
   ]
  },
  {
   "cell_type": "markdown",
   "metadata": {},
   "source": [
    "### Day 6: Majority Element\n",
    "\n",
    "Given an array of size n, find the majority element. The majority element is the element that appears more than ⌊ n/2 ⌋ times.\n",
    "\n",
    "You may assume that the array is non-empty and the majority element always exist in the array.\n",
    "\n",
    "Example 1:\n",
    "\n",
    "- Input: [3,2,3]\n",
    "- Output: 3\n",
    "\n",
    "Example 2:\n",
    "\n",
    "- Input: [2,2,1,1,1,2,2]\n",
    "- Output: 2"
   ]
  },
  {
   "cell_type": "code",
   "execution_count": 75,
   "metadata": {},
   "outputs": [],
   "source": [
    "class Solution:\n",
    "    def majorityElement(self, nums) -> int:\n",
    "        count = 0\n",
    "        for num in nums:\n",
    "            if count == 0: chosen = num\n",
    "            if num == chosen:\n",
    "                count +=1\n",
    "            else: count -=1\n",
    "        return chosen"
   ]
  },
  {
   "cell_type": "code",
   "execution_count": 76,
   "metadata": {},
   "outputs": [
    {
     "data": {
      "text/plain": [
       "3"
      ]
     },
     "execution_count": 76,
     "metadata": {},
     "output_type": "execute_result"
    }
   ],
   "source": [
    "# Test Code\n",
    "\n",
    "inputArr1 = [3,2,3]\n",
    "inputArr2 = [2,2,1,1,1,2,2]\n",
    "\n",
    "sol = Solution()\n",
    "sol.majorityElement(inputArr1)"
   ]
  },
  {
   "cell_type": "code",
   "execution_count": 77,
   "metadata": {},
   "outputs": [
    {
     "data": {
      "text/plain": [
       "2"
      ]
     },
     "execution_count": 77,
     "metadata": {},
     "output_type": "execute_result"
    }
   ],
   "source": [
    "sol.majorityElement(inputArr2)"
   ]
  },
  {
   "cell_type": "markdown",
   "metadata": {},
   "source": [
    "### Day 7: Cousins in Binary Tree\n",
    "\n",
    "In a binary tree, the root node is at depth 0, and children of each depth k node are at depth k+1.\n",
    "\n",
    "Two nodes of a binary tree are cousins if they have the same depth, but have different parents.\n",
    "\n",
    "We are given the root of a binary tree with unique values, and the values x and y of two different nodes in the tree.\n",
    "\n",
    "Return true if and only if the nodes corresponding to the values x and y are cousins.\n",
    "\n",
    " \n",
    "\n",
    "Example 1:\n",
    "\n",
    "        1\n",
    "       / \\\n",
    "      2   3\n",
    "     /\n",
    "    4\n",
    "\n",
    "- Input: root = [1,2,3,4], x = 4, y = 3\n",
    "- Output: false\n",
    "\n",
    "Example 2:\n",
    "\n",
    "         1\n",
    "       /   \\\n",
    "      2     3\n",
    "       \\     \\\n",
    "        4     5\n",
    "\n",
    "\n",
    "- Input: root = [1,2,3,null,4,null,5], x = 5, y = 4\n",
    "- Output: true\n",
    "\n",
    "Example 3:\n",
    "\n",
    "         1\n",
    "       /   \\\n",
    "      2     3\n",
    "       \\     \n",
    "        4     \n",
    "\n",
    "- Input: root = [1,2,3,null,4], x = 2, y = 3\n",
    "- Output: false\n",
    " \n",
    "\n",
    "Constraints:\n",
    "\n",
    "- The number of nodes in the tree will be between 2 and 100.\n",
    "- Each node has a unique integer value from 1 to 100."
   ]
  },
  {
   "cell_type": "code",
   "execution_count": 83,
   "metadata": {},
   "outputs": [],
   "source": [
    "from collections import deque"
   ]
  },
  {
   "cell_type": "code",
   "execution_count": 89,
   "metadata": {},
   "outputs": [],
   "source": [
    "class Solution: \n",
    "    def isCousins(self, root, x: int, y: int) -> bool:\n",
    "        store = deque([(root, 0, None)])\n",
    "        found = (False, None, None)\n",
    "        while store:\n",
    "            cur, height, par = store.popleft()\n",
    "            if cur.val == x or cur.val == y:\n",
    "                if found[0] == True and height == found[1]:\n",
    "                    if par == found[2]:\n",
    "                        return False\n",
    "                    return True\n",
    "                found = (True, height, par)\n",
    "            if not found[0] and cur.left:\n",
    "                store.append((cur.left, height+1, cur))\n",
    "            if not found[0] and cur.right:\n",
    "                store.append((cur.right, height+1, cur))\n",
    "        return False"
   ]
  },
  {
   "cell_type": "code",
   "execution_count": 93,
   "metadata": {},
   "outputs": [],
   "source": [
    "# Test Code\n",
    "\n",
    "class Node:\n",
    "    def __init__(self, val, left=None, right=None):\n",
    "        self.val = val\n",
    "        self.left = left\n",
    "        self.right = right\n",
    "\n",
    "x1, y1 = 4, 3\n",
    "treeRoot1 = Node(1)\n",
    "treeRoot1.left = Node(2)\n",
    "treeRoot1.right = Node(3)\n",
    "treeRoot1.left.left = Node(4)\n",
    "\n",
    "x2, y2 = 5, 4\n",
    "treeRoot2 = Node(1)\n",
    "treeRoot2.left = Node(2)\n",
    "treeRoot2.right = Node(3)\n",
    "treeRoot2.left.right = Node(4)\n",
    "treeRoot2.right.right = Node(5)\n",
    "\n",
    "x3, y3 = 2, 3\n",
    "treeRoot3 = Node(1)\n",
    "treeRoot3.left = Node(2)\n",
    "treeRoot3.right = Node(3)\n",
    "treeRoot3.left.right = Node(4)\n",
    "\n",
    "\n",
    "sol = Solution()"
   ]
  },
  {
   "cell_type": "code",
   "execution_count": 94,
   "metadata": {},
   "outputs": [
    {
     "data": {
      "text/plain": [
       "False"
      ]
     },
     "execution_count": 94,
     "metadata": {},
     "output_type": "execute_result"
    }
   ],
   "source": [
    "sol.isCousins(treeRoot1, x1, y1)"
   ]
  },
  {
   "cell_type": "code",
   "execution_count": 95,
   "metadata": {},
   "outputs": [
    {
     "data": {
      "text/plain": [
       "True"
      ]
     },
     "execution_count": 95,
     "metadata": {},
     "output_type": "execute_result"
    }
   ],
   "source": [
    "sol.isCousins(treeRoot2, x2, y2)"
   ]
  },
  {
   "cell_type": "code",
   "execution_count": 96,
   "metadata": {},
   "outputs": [
    {
     "data": {
      "text/plain": [
       "False"
      ]
     },
     "execution_count": 96,
     "metadata": {},
     "output_type": "execute_result"
    }
   ],
   "source": [
    "sol.isCousins(treeRoot1, x3, y3)"
   ]
  },
  {
   "cell_type": "markdown",
   "metadata": {},
   "source": [
    "### Day 8: Check If It Is a Straight Line\n",
    "\n",
    "You are given an array coordinates, coordinates[i] = [x, y], where [x, y] represents the coordinate of a point. Check if these points make a straight line in the XY plane.\n",
    "\n",
    "Example 1:\n",
    "\n",
    "- Input: coordinates = [[1,2],[2,3],[3,4],[4,5],[5,6],[6,7]]\n",
    "- Output: true\n",
    "\n",
    "Example 2:\n",
    "\n",
    "- Input: coordinates = [[1,1],[2,2],[3,4],[4,5],[5,6],[7,7]]\n",
    "- Output: false\n",
    "\n",
    "Constraints:\n",
    "\n",
    "- 2 <= coordinates.length <= 1000\n",
    "- coordinates[i].length == 2\n",
    "- -10^4 <= coordinates[i][0], coordinates[i][1] <= 10^4\n",
    "- coordinates contains no duplicate point."
   ]
  },
  {
   "cell_type": "code",
   "execution_count": 97,
   "metadata": {},
   "outputs": [],
   "source": [
    "class Solution:\n",
    "    def checkStraightLine(self, coordinates) -> bool:\n",
    "        \n",
    "        if coordinates[-1][0] == coordinates[0][0]: gradient = float('inf')\n",
    "        else:\n",
    "            gradient = (coordinates[-1][1]-coordinates[0][1]) / (coordinates[-1][0]-coordinates[0][0])\n",
    "            \n",
    "        for i in range(len(coordinates)-1):\n",
    "            if coordinates[i+1][0] == coordinates[i][0]: base = float('inf')\n",
    "            else: base = coordinates[i+1][0]-coordinates[i][0]\n",
    "            if gradient != (coordinates[i+1][1]-coordinates[i][1]) / base:\n",
    "                return False\n",
    "        return True"
   ]
  },
  {
   "cell_type": "code",
   "execution_count": 98,
   "metadata": {},
   "outputs": [
    {
     "data": {
      "text/plain": [
       "True"
      ]
     },
     "execution_count": 98,
     "metadata": {},
     "output_type": "execute_result"
    }
   ],
   "source": [
    "# Test Code\n",
    "\n",
    "coordinates1 = [[1,2],[2,3],[3,4],[4,5],[5,6],[6,7]]\n",
    "coordinates2 = [[1,1],[2,2],[3,4],[4,5],[5,6],[7,7]]\n",
    "\n",
    "sol = Solution()\n",
    "sol.checkStraightLine(coordinates1)"
   ]
  },
  {
   "cell_type": "code",
   "execution_count": 99,
   "metadata": {},
   "outputs": [
    {
     "data": {
      "text/plain": [
       "False"
      ]
     },
     "execution_count": 99,
     "metadata": {},
     "output_type": "execute_result"
    }
   ],
   "source": [
    "sol.checkStraightLine(coordinates2)"
   ]
  },
  {
   "cell_type": "markdown",
   "metadata": {},
   "source": [
    "### Day 9: Valid Perfect Square\n",
    "\n",
    "Given a positive integer num, write a function which returns True if num is a perfect square else False.\n",
    "\n",
    "Follow up: Do not use any built-in library function such as sqrt.\n",
    "\n",
    "Example 1:\n",
    "\n",
    "- Input: num = 16\n",
    "- Output: true\n",
    "\n",
    "Example 2:\n",
    "\n",
    "- Input: num = 14\n",
    "- Output: false\n",
    " \n",
    "\n",
    "Constraints:\n",
    "\n",
    "- 1 <= num <= 2^31 - 1"
   ]
  },
  {
   "cell_type": "code",
   "execution_count": 100,
   "metadata": {},
   "outputs": [],
   "source": [
    "class Solution:\n",
    "    def isPerfectSquare(self, num: int) -> bool:\n",
    "        if num%10 in [2,3,7,8]:\n",
    "            return False\n",
    "        x = num\n",
    "        while True:\n",
    "            root = 0.5 * (x + (num/x))\n",
    "            if abs(root-x) < 0.5:\n",
    "                if round(root)*round(root) == num:\n",
    "                    return True\n",
    "                return False\n",
    "            x = root"
   ]
  },
  {
   "cell_type": "code",
   "execution_count": 102,
   "metadata": {},
   "outputs": [
    {
     "data": {
      "text/plain": [
       "True"
      ]
     },
     "execution_count": 102,
     "metadata": {},
     "output_type": "execute_result"
    }
   ],
   "source": [
    "# Test Cide\n",
    "\n",
    "num1 = 16\n",
    "num2 = 14\n",
    "\n",
    "sol = Solution()\n",
    "sol.isPerfectSquare(num1)"
   ]
  },
  {
   "cell_type": "code",
   "execution_count": 103,
   "metadata": {},
   "outputs": [
    {
     "data": {
      "text/plain": [
       "False"
      ]
     },
     "execution_count": 103,
     "metadata": {},
     "output_type": "execute_result"
    }
   ],
   "source": [
    "sol.isPerfectSquare(num2)"
   ]
  },
  {
   "cell_type": "markdown",
   "metadata": {},
   "source": [
    "### Day 10: Find the Town Judge\n",
    "\n",
    "In a town, there are N people labelled from 1 to N.  There is a rumor that one of these people is secretly the town judge.\n",
    "\n",
    "If the town judge exists, then:\n",
    "\n",
    "The town judge trusts nobody.\n",
    "Everybody (except for the town judge) trusts the town judge.\n",
    "There is exactly one person that satisfies properties 1 and 2.\n",
    "You are given trust, an array of pairs trust[i] = [a, b] representing that the person labelled a trusts the person labelled b.\n",
    "\n",
    "If the town judge exists and can be identified, return the label of the town judge.  Otherwise, return -1.\n",
    "\n",
    "Example 1:\n",
    "\n",
    "- Input: N = 2, trust = [[1,2]]\n",
    "- Output: 2\n",
    "\n",
    "Example 2:\n",
    "\n",
    "- Input: N = 3, trust = [[1,3],[2,3]]\n",
    "- Output: 3\n",
    "\n",
    "Example 3:\n",
    "\n",
    "- Input: N = 3, trust = [[1,3],[2,3],[3,1]]\n",
    "- Output: -1\n",
    "\n",
    "Example 4:\n",
    "\n",
    "- Input: N = 3, trust = [[1,2],[2,3]]\n",
    "- Output: -1\n",
    "\n",
    "Example 5:\n",
    "\n",
    "- Input: N = 4, trust = [[1,3],[1,4],[2,3],[2,4],[4,3]]\n",
    "- Output: 3\n",
    "\n",
    "Constraints:\n",
    "\n",
    "- 1 <= N <= 1000\n",
    "- 0 <= trust.length <= 10^4\n",
    "- trust[i].length == 2\n",
    "- trust[i] are all different\n",
    "- trust[i][0] != trust[i][1]\n",
    "- 1 <= trust[i][0], trust[i][1] <= N"
   ]
  },
  {
   "cell_type": "code",
   "execution_count": 105,
   "metadata": {},
   "outputs": [],
   "source": [
    "class Solution:\n",
    "    def findJudge(self, N: int, trust) -> int:\n",
    "        store = dict.fromkeys(list(range(1,N+1)),0)\n",
    "        for i in trust:\n",
    "            if i[1] in store: store[i[1]] += 1\n",
    "            if i[0] in store: del store[i[0]]\n",
    "        if len(store) > 1: return -1\n",
    "        else: \n",
    "            for i in store:\n",
    "                if store[i] == N-1: return i\n",
    "            return -1"
   ]
  },
  {
   "cell_type": "code",
   "execution_count": 106,
   "metadata": {},
   "outputs": [
    {
     "data": {
      "text/plain": [
       "2"
      ]
     },
     "execution_count": 106,
     "metadata": {},
     "output_type": "execute_result"
    }
   ],
   "source": [
    "# Test Code\n",
    "\n",
    "N1 = 2; trust1 = [[1,2]]\n",
    "N2 = 3; trust2 = [[1,3],[2,3]]\n",
    "N3 = 3; trust3 = [[1,3],[2,3],[3,1]]\n",
    "N4 = 3; trust4 = [[1,2],[2,3]]\n",
    "N5 = 4; trust5 = [[1,3],[1,4],[2,3],[2,4],[4,3]]\n",
    "\n",
    "sol = Solution()\n",
    "sol.findJudge(N1, trust1)"
   ]
  },
  {
   "cell_type": "code",
   "execution_count": 107,
   "metadata": {},
   "outputs": [
    {
     "data": {
      "text/plain": [
       "3"
      ]
     },
     "execution_count": 107,
     "metadata": {},
     "output_type": "execute_result"
    }
   ],
   "source": [
    "sol.findJudge(N2, trust2)"
   ]
  },
  {
   "cell_type": "code",
   "execution_count": 108,
   "metadata": {},
   "outputs": [
    {
     "data": {
      "text/plain": [
       "-1"
      ]
     },
     "execution_count": 108,
     "metadata": {},
     "output_type": "execute_result"
    }
   ],
   "source": [
    "sol.findJudge(N3, trust3)"
   ]
  },
  {
   "cell_type": "code",
   "execution_count": 109,
   "metadata": {},
   "outputs": [
    {
     "data": {
      "text/plain": [
       "-1"
      ]
     },
     "execution_count": 109,
     "metadata": {},
     "output_type": "execute_result"
    }
   ],
   "source": [
    "sol.findJudge(N4, trust4)"
   ]
  },
  {
   "cell_type": "code",
   "execution_count": 110,
   "metadata": {},
   "outputs": [
    {
     "data": {
      "text/plain": [
       "3"
      ]
     },
     "execution_count": 110,
     "metadata": {},
     "output_type": "execute_result"
    }
   ],
   "source": [
    "sol.findJudge(N5, trust5)"
   ]
  },
  {
   "cell_type": "code",
   "execution_count": null,
   "metadata": {},
   "outputs": [],
   "source": []
  },
  {
   "cell_type": "markdown",
   "metadata": {},
   "source": [
    "### Day 16: Odd Even Linked List\n",
    "\n",
    "Given a singly linked list, group all odd nodes together followed by the even nodes. Please note here we are talking about the node number and not the value in the nodes.\n",
    "\n",
    "You should try to do it in place. The program should run in O(1) space complexity and O(nodes) time complexity.\n",
    "\n",
    "Example 1:\n",
    "\n",
    "- Input: 1->2->3->4->5->NULL\n",
    "- Output: 1->3->5->2->4->NULL\n",
    "    \n",
    "Example 2:\n",
    "\n",
    "- Input: 2->1->3->5->6->4->7->NULL\n",
    "- Output: 2->3->6->7->1->5->4->NULL\n",
    " \n",
    "Constraints:\n",
    "\n",
    "- The relative order inside both the even and odd groups should remain as it was in the input.\n",
    "- The first node is considered odd, the second node even and so on ...\n",
    "- The length of the linked list is between [0, 10^4]."
   ]
  },
  {
   "cell_type": "code",
   "execution_count": 32,
   "metadata": {},
   "outputs": [],
   "source": [
    "class Solution:\n",
    "    def oddEvenList(self, head):\n",
    "        if not head or not head.next or not head.next.next:\n",
    "            return head\n",
    "        \n",
    "        # Iterate till we get to the last item\n",
    "        cur = head\n",
    "        while cur.next is not None: cur = cur.next\n",
    "        \n",
    "        # From the last item, separate the odd and even index of items\n",
    "        tail = cur; jump = head\n",
    "        while jump is not cur and jump is not cur.next:\n",
    "            tail.next, jump.next = jump.next, jump.next.next\n",
    "            jump, tail = jump.next, tail.next\n",
    "        tail.next = None\n",
    "        return head"
   ]
  },
  {
   "cell_type": "markdown",
   "metadata": {},
   "source": [
    "### Day 17: Find All Anagrams in a String\n",
    "\n",
    "Given a string s and a non-empty string p, find all the start indices of p's anagrams in s.\n",
    "\n",
    "Strings consists of lowercase English letters only and the length of both strings s and p will not be larger than 20,100.\n",
    "\n",
    "The order of output does not matter.\n",
    "\n",
    "Example 1:\n",
    "\n",
    "Input:\n",
    "s: \"cbaebabacd\" p: \"abc\"\n",
    "\n",
    "Output:\n",
    "[0, 6]\n",
    "\n",
    "Explanation:\n",
    "- The substring with start index = 0 is \"cba\", which is an anagram of \"abc\".\n",
    "- The substring with start index = 6 is \"bac\", which is an anagram of \"abc\".\n",
    "\n",
    "Example 2:\n",
    "\n",
    "Input:\n",
    "s: \"abab\" p: \"ab\"\n",
    "\n",
    "Output:\n",
    "[0, 1, 2]\n",
    "\n",
    "Explanation:\n",
    "- The substring with start index = 0 is \"ab\", which is an anagram of \"ab\".\n",
    "- The substring with start index = 1 is \"ba\", which is an anagram of \"ab\".\n",
    "- The substring with start index = 2 is \"ab\", which is an anagram of \"ab\"."
   ]
  },
  {
   "cell_type": "code",
   "execution_count": 28,
   "metadata": {},
   "outputs": [],
   "source": [
    "class Solution:\n",
    "    def findAnagrams(self, s: str, p: str):\n",
    "        store, check, lenP, res = {'.':0}, {'.':0}, len(p), []\n",
    "        \n",
    "        # Keep count of 'p' characters in 'store' and record characters in 'check' all equal to zero\n",
    "        for char in p:\n",
    "            if char in store: store[char]+=1\n",
    "            else: store[char] = 1; check[char] = 0\n",
    "           \n",
    "        # Use sliding window technique to remove the count of any item from store\n",
    "        # The window width is the length of the character we are trying to match\n",
    "        # Whenever any character is within the window, it's count should be subtracted from store\n",
    "        # When it leavees the window, it's count should be added back\n",
    "        # Characters not within 'p' are given a generic representation of '.'\n",
    "        # If 'p' is matched, the count of it's characters would be equal to zero since it's within the window\n",
    "        # Append matched index to res\n",
    "        for i in range(len(s)):\n",
    "            if s[i] in store: store[s[i]] -=1\n",
    "            else: store['.'] -=1\n",
    "            if i >= lenP:\n",
    "                if s[i-lenP] in store: store[s[i-lenP]] +=1\n",
    "                else: store['.'] +=1\n",
    "            if store == check: res.append(i-lenP+1)\n",
    "        return res"
   ]
  },
  {
   "cell_type": "code",
   "execution_count": 29,
   "metadata": {},
   "outputs": [
    {
     "data": {
      "text/plain": [
       "[0, 6]"
      ]
     },
     "execution_count": 29,
     "metadata": {},
     "output_type": "execute_result"
    }
   ],
   "source": [
    "# Test Code\n",
    "\n",
    "s1, p1 = \"cbaebabacd\", \"abc\"\n",
    "s2, p2 = \"abab\", \"ab\"\n",
    "\n",
    "sol = Solution()\n",
    "sol.findAnagrams(s1, p1)"
   ]
  },
  {
   "cell_type": "code",
   "execution_count": 30,
   "metadata": {},
   "outputs": [
    {
     "data": {
      "text/plain": [
       "[0, 1, 2]"
      ]
     },
     "execution_count": 30,
     "metadata": {},
     "output_type": "execute_result"
    }
   ],
   "source": [
    "sol.findAnagrams(s2, p2)"
   ]
  },
  {
   "cell_type": "markdown",
   "metadata": {},
   "source": [
    "### Day 18: Permutation in String\n",
    "\n",
    "Given two strings s1 and s2, write a function to return true if s2 contains the permutation of s1. In other words, one of the first string's permutations is the substring of the second string.\n",
    "\n",
    " \n",
    "\n",
    "Example 1:\n",
    "\n",
    "- Input: s1 = \"ab\" s2 = \"eidbaooo\"\n",
    "- Output: True\n",
    "- Explanation: s2 contains one permutation of s1 (\"ba\").\n",
    "Example 2:\n",
    "\n",
    "- Input:s1= \"ab\" s2 = \"eidboaoo\"\n",
    "- Output: False\n",
    " \n",
    "\n",
    "Constraints:\n",
    "\n",
    "- The input strings only contain lower case letters.\n",
    "- The length of both given strings is in range [1, 10,000]."
   ]
  },
  {
   "cell_type": "code",
   "execution_count": 12,
   "metadata": {},
   "outputs": [],
   "source": [
    "class Solution:\n",
    "    def checkInclusion(self, s1: str, s2: str) -> bool:\n",
    "        store, check, len1 = {'.':0}, {'.':0}, len(s1)\n",
    "        \n",
    "        # Keep count of 's1' characters in 'store' and record characters in 'check' all equal to zero\n",
    "        for char in s1:\n",
    "            if char in store: store[char]+=1\n",
    "            else: store[char] = 1; check[char] = 0\n",
    "        \n",
    "        # Use sliding window technique to remove the count of any item from store\n",
    "        # The window width is the length of the character we are trying to match\n",
    "        # Whenever any character is within the window, it's count should be subtracted from store\n",
    "        # When it leavees the window, it's count should be added back\n",
    "        # Characters not within 's1' are given a generic representation of '.'\n",
    "        # If 's1' is matched, the count of it's characters would be equal to zero since it's within the window\n",
    "        for i in range(len(s2)):\n",
    "            if s2[i] in store: store[s2[i]]-=1\n",
    "            else: store['.']-=1\n",
    "            if i >= len1:\n",
    "                if s2[i-len1] in store: store[s2[i-len1]] += 1\n",
    "                else: store['.'] += 1\n",
    "            if store == check: return True\n",
    "        return False"
   ]
  },
  {
   "cell_type": "code",
   "execution_count": 16,
   "metadata": {},
   "outputs": [],
   "source": [
    "# Test Code\n",
    "\n",
    "input1_s1, input1_s2 = \"ab\", \"eidbaooo\"\n",
    "input2_s1, input2_s2 = \"ab\", \"eidboaoo\"\n",
    "\n",
    "sol = Solution()"
   ]
  },
  {
   "cell_type": "code",
   "execution_count": 17,
   "metadata": {},
   "outputs": [
    {
     "data": {
      "text/plain": [
       "True"
      ]
     },
     "execution_count": 17,
     "metadata": {},
     "output_type": "execute_result"
    }
   ],
   "source": [
    "sol.checkInclusion(input1_s1, input1_s2)"
   ]
  },
  {
   "cell_type": "code",
   "execution_count": 18,
   "metadata": {},
   "outputs": [
    {
     "data": {
      "text/plain": [
       "False"
      ]
     },
     "execution_count": 18,
     "metadata": {},
     "output_type": "execute_result"
    }
   ],
   "source": [
    "sol.checkInclusion(input2_s1, input2_s2)"
   ]
  },
  {
   "cell_type": "markdown",
   "metadata": {},
   "source": [
    "### Day 19: Online Stock Span\n",
    "\n",
    "Write a class StockSpanner which collects daily price quotes for some stock, and returns the span of that stock's price for the current day.\n",
    "\n",
    "The span of the stock's price today is defined as the maximum number of consecutive days (starting from today and going backwards) for which the price of the stock was less than or equal to today's price.\n",
    "\n",
    "For example, if the price of a stock over the next 7 days were [100, 80, 60, 70, 60, 75, 85], then the stock spans would be [1, 1, 1, 2, 1, 4, 6].\n",
    "\n",
    " \n",
    "\n",
    "Example 1:\n",
    "\n",
    "- Input: [\"StockSpanner\",\"next\",\"next\",\"next\",\"next\",\"next\",\"next\",\"next\"], [[],[100],[80],[60],[70],[60],[75],[85]]\n",
    "- Output: [null,1,1,1,2,1,4,6]\n",
    "Explanation: \n",
    "First, S = StockSpanner() is initialized.  Then:\n",
    "- S.next(100) is called and returns 1,\n",
    "- S.next(80) is called and returns 1,\n",
    "- S.next(60) is called and returns 1,\n",
    "- S.next(70) is called and returns 2,\n",
    "- S.next(60) is called and returns 1,\n",
    "- S.next(75) is called and returns 4,\n",
    "- S.next(85) is called and returns 6.\n",
    "\n",
    "Note that (for example) S.next(75) returned 4, because the last 4 prices\n",
    "(including today's price of 75) were less than or equal to today's price.\n",
    "\n",
    "Note:\n",
    "\n",
    "- Calls to StockSpanner.next(int price) will have 1 <= price <= 10^5.\n",
    "- There will be at most 10000 calls to StockSpanner.next per test case.\n",
    "- There will be at most 150000 calls to StockSpanner.next across all test cases.\n",
    "- The total time limit for this problem has been reduced by 75% for C++, and 50% for all other languages."
   ]
  },
  {
   "cell_type": "code",
   "execution_count": 7,
   "metadata": {},
   "outputs": [],
   "source": [
    "class StockSpanner:\n",
    "    def __init__(self):\n",
    "        self.items = []\n",
    "\n",
    "    def next(self, price: int) -> int:\n",
    "        cur = 1\n",
    "        \n",
    "        # If the value added is greater than or equals the previous,\n",
    "        # pop all items till a greater item. Add the values of all popped items\n",
    "        while self.items and price >= self.items[-1][0]:\n",
    "            cur += self.items.pop()[1]\n",
    "        self.items.append((price, cur))\n",
    "        return cur"
   ]
  },
  {
   "cell_type": "code",
   "execution_count": 26,
   "metadata": {},
   "outputs": [
    {
     "name": "stdout",
     "output_type": "stream",
     "text": [
      "[1, 1, 1, 2, 1, 4, 6]\n"
     ]
    }
   ],
   "source": [
    "# Test Code\n",
    "\n",
    "S = StockSpanner()\n",
    "print([S.next(100), S.next(80), S.next(60), S.next(70), S.next(60), S.next(75), S.next(85)])"
   ]
  },
  {
   "cell_type": "markdown",
   "metadata": {},
   "source": [
    "### Day 20: Kth Smallest Element in a BST\n",
    "\n",
    "Given a binary search tree, write a function kthSmallest to find the kth smallest element in it.\n",
    "\n",
    " \n",
    "\n",
    "Example 1:\n",
    "\n",
    "Input: root = [3,1,4,null,2], k = 1\n",
    "\n",
    "       3\n",
    "      / \\\n",
    "     1   4\n",
    "      \\\n",
    "       2\n",
    "       \n",
    "Output: 1\n",
    "Example 2:\n",
    "\n",
    "Input: root = [5,3,6,2,4,null,null,1], k = 3\n",
    "\n",
    "           5\n",
    "          / \\\n",
    "         3   6\n",
    "        / \\\n",
    "       2   4\n",
    "      /\n",
    "     1\n",
    " \n",
    "Output: 3\n",
    "\n",
    "Follow up:\n",
    "What if the BST is modified (insert/delete operations) often and you need to find the kth smallest frequently? How would you optimize the kthSmallest routine?\n",
    "\n",
    " \n",
    "Constraints:\n",
    "\n",
    "- The number of elements of the BST is between 1 to 10^4.\n",
    "- You may assume k is always valid, 1 ≤ k ≤ BST's total elements."
   ]
  },
  {
   "cell_type": "code",
   "execution_count": 6,
   "metadata": {},
   "outputs": [],
   "source": [
    "class Solution:\n",
    "    def kthSmallest(self, root, k: int) -> int:\n",
    "        stack = []\n",
    "        cur = root\n",
    "        \n",
    "        while True:\n",
    "            # Keep moving till we get to the minimum element\n",
    "            # Append all items we pass through to a stack\n",
    "            if cur is not None:\n",
    "                stack.append(cur)\n",
    "                cur = cur.left\n",
    "            \n",
    "            # When current is None and stack is not None, subtract 1 from k and pop from stack\n",
    "            # if k equals zero, then we're done. Return current\n",
    "            elif stack:\n",
    "                k-=1\n",
    "                cur = stack.pop()\n",
    "                if k == 0: return cur.val\n",
    "                cur = cur.right\n",
    "            else: break"
   ]
  },
  {
   "cell_type": "markdown",
   "metadata": {},
   "source": [
    "### Day 21: Count Square Submatrices with All Ones\n",
    "\n",
    "Given a m * n matrix of ones and zeros, return how many square submatrices have all ones.\n",
    " \n",
    "Example 1:\n",
    "\n",
    "Input: matrix =\n",
    "\n",
    "    [[0,1,1,1],\n",
    "    [1,1,1,1],\n",
    "    [0,1,1,1]]\n",
    "\n",
    "Output: 15\n",
    "\n",
    "Explanation: \n",
    "- There are 10 squares of side 1.\n",
    "- There are 4 squares of side 2.\n",
    "- There is  1 square of side 3.\n",
    "- Total number of squares = 10 + 4 + 1 = 15.\n",
    "\n",
    "Example 2:\n",
    "\n",
    "Input: matrix =\n",
    "\n",
    "    [[1,0,1],\n",
    "    [1,1,0],\n",
    "    [1,1,0]]\n",
    "\n",
    "Output: 7\n",
    "\n",
    "Explanation: \n",
    "- There are 6 squares of side 1.  \n",
    "- There is 1 square of side 2. \n",
    "- Total number of squares = 6 + 1 = 7.\n",
    " \n",
    "\n",
    "Constraints:\n",
    "\n",
    "- 1 <= arr.length <= 300\n",
    "- 1 <= arr[0].length <= 300\n",
    "- 0 <= arr[i][j] <= 1"
   ]
  },
  {
   "cell_type": "code",
   "execution_count": 2,
   "metadata": {},
   "outputs": [],
   "source": [
    "class Solution:\n",
    "    def countSquares(self, matrix) -> int:\n",
    "        m, n = len(matrix), len(matrix[0])\n",
    "        count = 0\n",
    "        \n",
    "        for i in range(m):\n",
    "            for j in range(n):\n",
    "                if matrix[i][j] == 1:\n",
    "                    if i > 0 and j > 0:\n",
    "                        matrix[i][j] = min(matrix[i-1][j-1], matrix[i-1][j], matrix[i][j-1])+1\n",
    "                    count+=matrix[i][j]\n",
    "        return count"
   ]
  },
  {
   "cell_type": "code",
   "execution_count": 3,
   "metadata": {},
   "outputs": [],
   "source": [
    "# Test Code\n",
    "\n",
    "inputMatrix1 = [[0,1,1,1],\n",
    "                [1,1,1,1],\n",
    "                [0,1,1,1]]\n",
    "inputMatrix2 = [[1,0,1],\n",
    "                [1,1,0],\n",
    "                [1,1,0]]\n",
    "\n",
    "sol = Solution()"
   ]
  },
  {
   "cell_type": "code",
   "execution_count": 4,
   "metadata": {},
   "outputs": [
    {
     "data": {
      "text/plain": [
       "15"
      ]
     },
     "execution_count": 4,
     "metadata": {},
     "output_type": "execute_result"
    }
   ],
   "source": [
    "sol.countSquares(inputMatrix1)"
   ]
  },
  {
   "cell_type": "code",
   "execution_count": 5,
   "metadata": {},
   "outputs": [
    {
     "data": {
      "text/plain": [
       "7"
      ]
     },
     "execution_count": 5,
     "metadata": {},
     "output_type": "execute_result"
    }
   ],
   "source": [
    "sol.countSquares(inputMatrix2)"
   ]
  },
  {
   "cell_type": "markdown",
   "metadata": {},
   "source": [
    "### Day 22: Sort Characters By Frequency\n",
    "\n",
    "Given a string, sort it in decreasing order based on the frequency of characters.\n",
    "\n",
    "Example 1:\n",
    "\n",
    "Input:\n",
    "\"tree\"\n",
    "\n",
    "Output:\n",
    "\"eert\"\n",
    "\n",
    "Explanation:\n",
    "- 'e' appears twice while 'r' and 't' both appear once.\n",
    "- So 'e' must appear before both 'r' and 't'. Therefore \"eetr\" is also a valid answer.\n",
    "\n",
    "Example 2:\n",
    "\n",
    "Input:\n",
    "\"cccaaa\"\n",
    "\n",
    "Output:\n",
    "\"cccaaa\"\n",
    "\n",
    "Explanation:\n",
    "- Both 'c' and 'a' appear three times, so \"aaaccc\" is also a valid answer.\n",
    "- Note that \"cacaca\" is incorrect, as the same characters must be together.\n",
    "\n",
    "Example 3:\n",
    "\n",
    "Input:\n",
    "\"Aabb\"\n",
    "\n",
    "Output:\n",
    "\"bbAa\"\n",
    "\n",
    "Explanation:\n",
    "- \"bbaA\" is also a valid answer, but \"Aabb\" is incorrect.\n",
    "- Note that 'A' and 'a' are treated as two different characters."
   ]
  },
  {
   "cell_type": "code",
   "execution_count": 19,
   "metadata": {},
   "outputs": [],
   "source": [
    "class Solution:\n",
    "    def frequencySort(self, s: str) -> str:\n",
    "        \n",
    "        if not s: return s\n",
    "        \n",
    "        store, res = {}, []\n",
    "        # keep a count of items in 's' in store\n",
    "        for i in s:\n",
    "            if i in store: store[i] += 1\n",
    "            else: store[i] = 1\n",
    "        \n",
    "        # Bucket sort technique\n",
    "        # Create a list of lists with range as the max count of the items\n",
    "        # Append all items to the index that matches their count from store\n",
    "        bucket = [[] for _ in range(max(store.values())+1)]\n",
    "        for k, v in store.items(): bucket[v].append(k)\n",
    "        \n",
    "        for i in range(len(bucket)-1, 0, -1):\n",
    "            for j in bucket[i]: res.append(j*i)\n",
    "                \n",
    "        return \"\".join(res)"
   ]
  },
  {
   "cell_type": "code",
   "execution_count": 20,
   "metadata": {},
   "outputs": [],
   "source": [
    "# Test Code\n",
    "\n",
    "input1 = \"tree\"\n",
    "input2 = \"cccaaa\"\n",
    "input3 = \"Aabb\"\n",
    "\n",
    "sol = Solution()"
   ]
  },
  {
   "cell_type": "code",
   "execution_count": 21,
   "metadata": {},
   "outputs": [
    {
     "data": {
      "text/plain": [
       "'eetr'"
      ]
     },
     "execution_count": 21,
     "metadata": {},
     "output_type": "execute_result"
    }
   ],
   "source": [
    "sol.frequencySort(input1)"
   ]
  },
  {
   "cell_type": "code",
   "execution_count": 22,
   "metadata": {},
   "outputs": [
    {
     "data": {
      "text/plain": [
       "'cccaaa'"
      ]
     },
     "execution_count": 22,
     "metadata": {},
     "output_type": "execute_result"
    }
   ],
   "source": [
    "sol.frequencySort(input2)"
   ]
  },
  {
   "cell_type": "code",
   "execution_count": 23,
   "metadata": {},
   "outputs": [
    {
     "data": {
      "text/plain": [
       "'bbAa'"
      ]
     },
     "execution_count": 23,
     "metadata": {},
     "output_type": "execute_result"
    }
   ],
   "source": [
    "sol.frequencySort(input3)"
   ]
  },
  {
   "cell_type": "markdown",
   "metadata": {},
   "source": [
    "### Day 23: Interval List Intersections\n",
    "\n",
    "Given two lists of closed intervals, each list of intervals is pairwise disjoint and in sorted order.\n",
    "\n",
    "Return the intersection of these two interval lists.\n",
    "\n",
    "(Formally, a closed interval [a, b] (with a <= b) denotes the set of real numbers x with a <= x <= b.  The intersection of two closed intervals is a set of real numbers that is either empty, or can be represented as a closed interval.  For example, the intersection of [1, 3] and [2, 4] is [2, 3].)\n",
    "\n",
    "Example 1:\n",
    "\n",
    "- Input: A = [[0,2],[5,10],[13,23],[24,25]], B = [[1,5],[8,12],[15,24],[25,26]]\n",
    "- Output: [[1,2],[5,5],[8,10],[15,23],[24,24],[25,25]]\n",
    "\n",
    "Reminder: The inputs and the desired output are lists of Interval objects, and not arrays or lists.\n",
    "\n",
    "Note:\n",
    "\n",
    "- 0 <= A.length < 1000\n",
    "- 0 <= B.length < 1000\n",
    "- 0 <= A[i].start, A[i].end, B[i].start, B[i].end < 10^9"
   ]
  },
  {
   "cell_type": "code",
   "execution_count": 24,
   "metadata": {},
   "outputs": [],
   "source": [
    "class Solution:\n",
    "    def intervalIntersection(self, A, B):\n",
    "        i, j, res = 0, 0, []\n",
    "        \n",
    "        while i < len(A) and j < len(B):\n",
    "            # Find maximum of both at the first index\n",
    "            # Find the minimum of both at second index\n",
    "            # If 'low' is greater than or equal to 'high', then they overlap\n",
    "            low = max(A[i][0], B[j][0])\n",
    "            high = min(A[i][1], B[j][1])\n",
    "            if low <= high:\n",
    "                res.append([low, high])\n",
    "            \n",
    "            # Whichever has a lower value at second index can be dropped and we move ahead\n",
    "            # If they have equal higher value, then we can drop both and move\n",
    "            if A[i][1] > B[j][1]:\n",
    "                j+=1\n",
    "            elif A[i][1] < B[j][1]:\n",
    "                i+=1\n",
    "            else: i+=1; j+=1\n",
    "        return res"
   ]
  },
  {
   "cell_type": "code",
   "execution_count": 25,
   "metadata": {},
   "outputs": [
    {
     "data": {
      "text/plain": [
       "[[1, 2], [5, 5], [8, 10], [15, 23], [24, 24], [25, 25]]"
      ]
     },
     "execution_count": 25,
     "metadata": {},
     "output_type": "execute_result"
    }
   ],
   "source": [
    "# Test Code\n",
    "\n",
    "inputA = [[0,2],[5,10],[13,23],[24,25]]\n",
    "inputB = [[1,5],[8,12],[15,24],[25,26]]\n",
    "\n",
    "sol = Solution()\n",
    "sol.intervalIntersection(inputA, inputB)"
   ]
  },
  {
   "cell_type": "markdown",
   "metadata": {},
   "source": [
    "### Day 20: Construct Binary Search Tree from Preorder Traversal\n",
    "\n",
    "Return the root node of a binary search tree that matches the given preorder traversal.\n",
    "\n",
    "(Recall that a binary search tree is a binary tree where for every node, any descendant of node.left has a value < node.val, and any descendant of node.right has a value > node.val. Also recall that a preorder traversal displays the value of the node first, then traverses node.left, then traverses node.right.)\n",
    "\n",
    "Example 1:\n",
    "\n",
    "- Input: [8,5,1,7,10,12]\n",
    "\n",
    "- Output: [8,5,10,1,7,null,12]\n",
    "\n",
    "Note:\n",
    "\n",
    "1 <= preorder.length <= 100\n",
    "\n",
    "The values of preorder are distinct."
   ]
  },
  {
   "cell_type": "code",
   "execution_count": 35,
   "metadata": {},
   "outputs": [],
   "source": [
    "class TreeNode:\n",
    "    def __init__(self, val, left = None, right = None):\n",
    "        self.val = val\n",
    "        self.left = left\n",
    "        self.right = right\n",
    "\n",
    "class Solution:\n",
    "    def bstFromPreorder(self, preorder):\n",
    "        # If list is empty return None\n",
    "        if not preorder:\n",
    "            return None\n",
    "        # root is the first item in the tree\n",
    "        root = TreeNode(preorder[0])\n",
    "        # iterating through the rest of the list\n",
    "        for i in range(1, len(preorder)):\n",
    "            cur = root\n",
    "            # current node is not None\n",
    "            while cur is not None:\n",
    "                # if i value is greater than current node value\n",
    "                if preorder[i] > cur.val:\n",
    "                    if cur.right is None:\n",
    "                        # set node of i value to the right of current node\n",
    "                        cur.right = TreeNode(preorder[i])\n",
    "                        break\n",
    "                    # else keep going right\n",
    "                    cur = cur.right\n",
    "                # else if i value is less than current node value    \n",
    "                else:\n",
    "                    # if i value is less than current node value\n",
    "                    if cur.left is None:\n",
    "                        # set node of i value to the left of current node\n",
    "                        cur.left = TreeNode(preorder[i])\n",
    "                        break\n",
    "                    # else keep going left\n",
    "                    cur = cur.left\n",
    "\n",
    "        return root"
   ]
  },
  {
   "cell_type": "code",
   "execution_count": 37,
   "metadata": {},
   "outputs": [
    {
     "name": "stdout",
     "output_type": "stream",
     "text": [
      "[8, 5, 10, 1, 7, None, 12]\n"
     ]
    }
   ],
   "source": [
    "# Test Code\n",
    "\n",
    "preorder = [8,5,1,7,10,12]\n",
    "\n",
    "sol = Solution()\n",
    "root = sol.bstFromPreorder(preorder)\n",
    "print([root.val, root.left.val, root.right.val, root.left.left.val, root.left.right.val, root.right.left, root.right.right.val])"
   ]
  },
  {
   "cell_type": "markdown",
   "metadata": {},
   "source": [
    "### Day 25: Uncrossed Lines\n",
    "\n",
    "We write the integers of A and B (in the order they are given) on two separate horizontal lines.\n",
    "\n",
    "Now, we may draw connecting lines: a straight line connecting two numbers A[i] and B[j] such that:\n",
    "\n",
    "A[i] == B[j];\n",
    "The line we draw does not intersect any other connecting (non-horizontal) line.\n",
    "Note that a connecting lines cannot intersect even at the endpoints: each number can only belong to one connecting line.\n",
    "\n",
    "Return the maximum number of connecting lines we can draw in this way.\n",
    "\n",
    "    1 4 2\n",
    "    |  \\\n",
    "    1 2 4\n",
    "\n",
    "Example 1:\n",
    "\n",
    "- Input: A = [1,4,2], B = [1,2,4]\n",
    "- Output: 2\n",
    "- Explanation: We can draw 2 uncrossed lines as in the diagram.\n",
    "- We cannot draw 3 uncrossed lines, because the line from A[1]=4 to B[2]=4 will intersect the line from A[2]=2 to B[1]=2.\n",
    "\n",
    "Example 2:\n",
    "\n",
    "- Input: A = [2,5,1,2,5], B = [10,5,2,1,5,2]\n",
    "- Output: 3\n",
    "\n",
    "Example 3:\n",
    "\n",
    "- Input: A = [1,3,7,1,7,5], B = [1,9,2,5,1]\n",
    "- Output: 2\n",
    " \n",
    "Note:\n",
    "\n",
    "- 1 <= A.length <= 500\n",
    "- 1 <= B.length <= 500\n",
    "- 1 <= A[i], B[i] <= 2000"
   ]
  },
  {
   "cell_type": "code",
   "execution_count": 39,
   "metadata": {},
   "outputs": [],
   "source": [
    "class Solution:\n",
    "    def maxUncrossedLines(self, A, B) -> int:\n",
    "        \n",
    "        # Matching without crossing is the same problem as finding the longest common substring(lcs)\n",
    "        store = [[0] * (len(B)+1) for _ in range(len(A)+1)]\n",
    "        \n",
    "        # If two strings are equal at an index the lcs is the one plus the previous index from both\n",
    "        # If they are not equal then the current lcs is the max of the the two preciding indices\n",
    "        for i in range(len(A)):\n",
    "            for j in range(len(B)):\n",
    "                if A[i] == B[j]:\n",
    "                    store[i+1][j+1] = store[i][j] + 1\n",
    "                else: store[i+1][j+1] = max(store[i+1][j], store[i][j+1])\n",
    "        return store[-1][-1]"
   ]
  },
  {
   "cell_type": "code",
   "execution_count": 41,
   "metadata": {},
   "outputs": [
    {
     "data": {
      "text/plain": [
       "2"
      ]
     },
     "execution_count": 41,
     "metadata": {},
     "output_type": "execute_result"
    }
   ],
   "source": [
    "# Test Code\n",
    "\n",
    "A1, B1 = [1,4,2], [1,2,4]\n",
    "A2, B2 = [2,5,1,2,5], [10,5,2,1,5,2]\n",
    "A3, B3 = [1,3,7,1,7,5], [1,9,2,5,1]\n",
    "\n",
    "sol = Solution()\n",
    "sol.maxUncrossedLines(A1, B1)"
   ]
  },
  {
   "cell_type": "code",
   "execution_count": 42,
   "metadata": {},
   "outputs": [
    {
     "data": {
      "text/plain": [
       "3"
      ]
     },
     "execution_count": 42,
     "metadata": {},
     "output_type": "execute_result"
    }
   ],
   "source": [
    "sol.maxUncrossedLines(A2, B2)"
   ]
  },
  {
   "cell_type": "code",
   "execution_count": 43,
   "metadata": {},
   "outputs": [
    {
     "data": {
      "text/plain": [
       "2"
      ]
     },
     "execution_count": 43,
     "metadata": {},
     "output_type": "execute_result"
    }
   ],
   "source": [
    "sol.maxUncrossedLines(A3, B3)"
   ]
  },
  {
   "cell_type": "markdown",
   "metadata": {},
   "source": [
    "### Day 26: Contiguous Array\n",
    "\n",
    "Given a binary array, find the maximum length of a contiguous subarray with equal number of 0 and 1.\n",
    "\n",
    "Example 1:\n",
    "- Input: [0,1]\n",
    "- Output: 2\n",
    "- Explanation: [0, 1] is the longest contiguous subarray with equal number of 0 and 1.\n",
    "\n",
    "Example 2:\n",
    "- Input: [0,1,0]\n",
    "- Output: 2\n",
    "- Explanation: [0, 1] (or [1, 0]) is a longest contiguous subarray with equal number of 0 and 1.\n",
    "\n",
    "Note: The length of the given binary array will not exceed 50,000."
   ]
  },
  {
   "cell_type": "code",
   "execution_count": 44,
   "metadata": {},
   "outputs": [],
   "source": [
    "class Solution:\n",
    "    def findMaxLength(self, nums) -> int:\n",
    "        count = maxlength = 0\n",
    "        store = {0:-1}\n",
    "        \n",
    "        for i in range(len(nums)):\n",
    "            if nums[i] == 0: count -=1\n",
    "            else: count += 1\n",
    "                \n",
    "            if count in store:\n",
    "                maxlength = max(maxlength, i-store[count])\n",
    "            else:\n",
    "                store[count] = i\n",
    "        return maxlength"
   ]
  },
  {
   "cell_type": "code",
   "execution_count": 45,
   "metadata": {},
   "outputs": [
    {
     "data": {
      "text/plain": [
       "2"
      ]
     },
     "execution_count": 45,
     "metadata": {},
     "output_type": "execute_result"
    }
   ],
   "source": [
    "# Test Code\n",
    "\n",
    "inputArr1 = [0,1]\n",
    "inputArr2 = [0,1,0]\n",
    "\n",
    "sol = Solution()\n",
    "sol.findMaxLength(inputArr1)"
   ]
  },
  {
   "cell_type": "code",
   "execution_count": 46,
   "metadata": {},
   "outputs": [
    {
     "data": {
      "text/plain": [
       "2"
      ]
     },
     "execution_count": 46,
     "metadata": {},
     "output_type": "execute_result"
    }
   ],
   "source": [
    "sol.findMaxLength(inputArr2)"
   ]
  }
 ],
 "metadata": {
  "kernelspec": {
   "display_name": "Python 3",
   "language": "python",
   "name": "python3"
  },
  "language_info": {
   "codemirror_mode": {
    "name": "ipython",
    "version": 3
   },
   "file_extension": ".py",
   "mimetype": "text/x-python",
   "name": "python",
   "nbconvert_exporter": "python",
   "pygments_lexer": "ipython3",
   "version": "3.6.7"
  }
 },
 "nbformat": 4,
 "nbformat_minor": 2
}
