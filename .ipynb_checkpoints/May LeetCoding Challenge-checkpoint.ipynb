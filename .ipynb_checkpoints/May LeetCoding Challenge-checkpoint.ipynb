{
 "cells": [
  {
   "cell_type": "markdown",
   "metadata": {},
   "source": [
    "### Day 1: First Bad Version\n",
    "\n",
    "You are a product manager and currently leading a team to develop a new product. Unfortunately, the latest version of your product fails the quality check. Since each version is developed based on the previous version, all the versions after a bad version are also bad.\n",
    "\n",
    "Suppose you have n versions [1, 2, ..., n] and you want to find out the first bad one, which causes all the following ones to be bad.\n",
    "\n",
    "You are given an API bool isBadVersion(version) which will return whether version is bad. Implement a function to find the first bad version. You should minimize the number of calls to the API.\n",
    "\n",
    "Example:\n",
    "\n",
    "Given n = 5, and version = 4 is the first bad version.\n",
    "\n",
    "- call isBadVersion(3) -> false\n",
    "- call isBadVersion(5) -> true\n",
    "- call isBadVersion(4) -> true\n",
    "\n",
    "Then 4 is the first bad version. "
   ]
  },
  {
   "cell_type": "code",
   "execution_count": 1,
   "metadata": {},
   "outputs": [],
   "source": [
    "# The isBadVersion API is already defined for you.\n",
    "# @param version, an integer\n",
    "# @return a bool\n",
    "# def isBadVersion(version):\n",
    "\n",
    "class Solution:\n",
    "    def firstBadVersion(self, n):\n",
    "        high = n\n",
    "        low = 1\n",
    "        \n",
    "        # Use binary search to find bad verson in log(n) time\n",
    "        while low < high:\n",
    "            mid = (high + low) // 2\n",
    "            if isBadVersion(mid):\n",
    "                high = mid\n",
    "            else:\n",
    "                low = mid + 1\n",
    "        return low"
   ]
  },
  {
   "cell_type": "code",
   "execution_count": null,
   "metadata": {},
   "outputs": [],
   "source": []
  },
  {
   "cell_type": "markdown",
   "metadata": {},
   "source": [
    "### Day 16: Odd Even Linked List\n",
    "\n",
    "Given a singly linked list, group all odd nodes together followed by the even nodes. Please note here we are talking about the node number and not the value in the nodes.\n",
    "\n",
    "You should try to do it in place. The program should run in O(1) space complexity and O(nodes) time complexity.\n",
    "\n",
    "Example 1:\n",
    "\n",
    "- Input: 1->2->3->4->5->NULL\n",
    "- Output: 1->3->5->2->4->NULL\n",
    "    \n",
    "Example 2:\n",
    "\n",
    "- Input: 2->1->3->5->6->4->7->NULL\n",
    "- Output: 2->3->6->7->1->5->4->NULL\n",
    " \n",
    "Constraints:\n",
    "\n",
    "- The relative order inside both the even and odd groups should remain as it was in the input.\n",
    "- The first node is considered odd, the second node even and so on ...\n",
    "- The length of the linked list is between [0, 10^4]."
   ]
  },
  {
   "cell_type": "code",
   "execution_count": 32,
   "metadata": {},
   "outputs": [],
   "source": [
    "class Solution:\n",
    "    def oddEvenList(self, head):\n",
    "        if not head or not head.next or not head.next.next:\n",
    "            return head\n",
    "        \n",
    "        # Iterate till we get to the last item\n",
    "        cur = head\n",
    "        while cur.next is not None: cur = cur.next\n",
    "        \n",
    "        # From the last item, separate the odd and even index of items\n",
    "        tail = cur; jump = head\n",
    "        while jump is not cur and jump is not cur.next:\n",
    "            tail.next, jump.next = jump.next, jump.next.next\n",
    "            jump, tail = jump.next, tail.next\n",
    "        tail.next = None\n",
    "        return head"
   ]
  },
  {
   "cell_type": "markdown",
   "metadata": {},
   "source": [
    "### Day 17: Find All Anagrams in a String\n",
    "\n",
    "Given a string s and a non-empty string p, find all the start indices of p's anagrams in s.\n",
    "\n",
    "Strings consists of lowercase English letters only and the length of both strings s and p will not be larger than 20,100.\n",
    "\n",
    "The order of output does not matter.\n",
    "\n",
    "Example 1:\n",
    "\n",
    "Input:\n",
    "s: \"cbaebabacd\" p: \"abc\"\n",
    "\n",
    "Output:\n",
    "[0, 6]\n",
    "\n",
    "Explanation:\n",
    "- The substring with start index = 0 is \"cba\", which is an anagram of \"abc\".\n",
    "- The substring with start index = 6 is \"bac\", which is an anagram of \"abc\".\n",
    "\n",
    "Example 2:\n",
    "\n",
    "Input:\n",
    "s: \"abab\" p: \"ab\"\n",
    "\n",
    "Output:\n",
    "[0, 1, 2]\n",
    "\n",
    "Explanation:\n",
    "- The substring with start index = 0 is \"ab\", which is an anagram of \"ab\".\n",
    "- The substring with start index = 1 is \"ba\", which is an anagram of \"ab\".\n",
    "- The substring with start index = 2 is \"ab\", which is an anagram of \"ab\"."
   ]
  },
  {
   "cell_type": "code",
   "execution_count": 28,
   "metadata": {},
   "outputs": [],
   "source": [
    "class Solution:\n",
    "    def findAnagrams(self, s: str, p: str):\n",
    "        store, check, lenP, res = {'.':0}, {'.':0}, len(p), []\n",
    "        \n",
    "        # Keep count of 'p' characters in 'store' and record characters in 'check' all equal to zero\n",
    "        for char in p:\n",
    "            if char in store: store[char]+=1\n",
    "            else: store[char] = 1; check[char] = 0\n",
    "           \n",
    "        # Use sliding window technique to remove the count of any item from store\n",
    "        # The window width is the length of the character we are trying to match\n",
    "        # Whenever any character is within the window, it's count should be subtracted from store\n",
    "        # When it leavees the window, it's count should be added back\n",
    "        # Characters not within 'p' are given a generic representation of '.'\n",
    "        # If 'p' is matched, the count of it's characters would be equal to zero since it's within the window\n",
    "        # Append matched index to res\n",
    "        for i in range(len(s)):\n",
    "            if s[i] in store: store[s[i]] -=1\n",
    "            else: store['.'] -=1\n",
    "            if i >= lenP:\n",
    "                if s[i-lenP] in store: store[s[i-lenP]] +=1\n",
    "                else: store['.'] +=1\n",
    "            if store == check: res.append(i-lenP+1)\n",
    "        return res"
   ]
  },
  {
   "cell_type": "code",
   "execution_count": 29,
   "metadata": {},
   "outputs": [
    {
     "data": {
      "text/plain": [
       "[0, 6]"
      ]
     },
     "execution_count": 29,
     "metadata": {},
     "output_type": "execute_result"
    }
   ],
   "source": [
    "# Test Code\n",
    "\n",
    "s1, p1 = \"cbaebabacd\", \"abc\"\n",
    "s2, p2 = \"abab\", \"ab\"\n",
    "\n",
    "sol = Solution()\n",
    "sol.findAnagrams(s1, p1)"
   ]
  },
  {
   "cell_type": "code",
   "execution_count": 30,
   "metadata": {},
   "outputs": [
    {
     "data": {
      "text/plain": [
       "[0, 1, 2]"
      ]
     },
     "execution_count": 30,
     "metadata": {},
     "output_type": "execute_result"
    }
   ],
   "source": [
    "sol.findAnagrams(s2, p2)"
   ]
  },
  {
   "cell_type": "markdown",
   "metadata": {},
   "source": [
    "### Day 18: Permutation in String\n",
    "\n",
    "Given two strings s1 and s2, write a function to return true if s2 contains the permutation of s1. In other words, one of the first string's permutations is the substring of the second string.\n",
    "\n",
    " \n",
    "\n",
    "Example 1:\n",
    "\n",
    "- Input: s1 = \"ab\" s2 = \"eidbaooo\"\n",
    "- Output: True\n",
    "- Explanation: s2 contains one permutation of s1 (\"ba\").\n",
    "Example 2:\n",
    "\n",
    "- Input:s1= \"ab\" s2 = \"eidboaoo\"\n",
    "- Output: False\n",
    " \n",
    "\n",
    "Constraints:\n",
    "\n",
    "- The input strings only contain lower case letters.\n",
    "- The length of both given strings is in range [1, 10,000]."
   ]
  },
  {
   "cell_type": "code",
   "execution_count": 12,
   "metadata": {},
   "outputs": [],
   "source": [
    "class Solution:\n",
    "    def checkInclusion(self, s1: str, s2: str) -> bool:\n",
    "        store, check, len1 = {'.':0}, {'.':0}, len(s1)\n",
    "        \n",
    "        # Keep count of 's1' characters in 'store' and record characters in 'check' all equal to zero\n",
    "        for char in s1:\n",
    "            if char in store: store[char]+=1\n",
    "            else: store[char] = 1; check[char] = 0\n",
    "        \n",
    "        # Use sliding window technique to remove the count of any item from store\n",
    "        # The window width is the length of the character we are trying to match\n",
    "        # Whenever any character is within the window, it's count should be subtracted from store\n",
    "        # When it leavees the window, it's count should be added back\n",
    "        # Characters not within 's1' are given a generic representation of '.'\n",
    "        # If 's1' is matched, the count of it's characters would be equal to zero since it's within the window\n",
    "        for i in range(len(s2)):\n",
    "            if s2[i] in store: store[s2[i]]-=1\n",
    "            else: store['.']-=1\n",
    "            if i >= len1:\n",
    "                if s2[i-len1] in store: store[s2[i-len1]] += 1\n",
    "                else: store['.'] += 1\n",
    "            if store == check: return True\n",
    "        return False"
   ]
  },
  {
   "cell_type": "code",
   "execution_count": 16,
   "metadata": {},
   "outputs": [],
   "source": [
    "# Test Code\n",
    "\n",
    "input1_s1, input1_s2 = \"ab\", \"eidbaooo\"\n",
    "input2_s1, input2_s2 = \"ab\", \"eidboaoo\"\n",
    "\n",
    "sol = Solution()"
   ]
  },
  {
   "cell_type": "code",
   "execution_count": 17,
   "metadata": {},
   "outputs": [
    {
     "data": {
      "text/plain": [
       "True"
      ]
     },
     "execution_count": 17,
     "metadata": {},
     "output_type": "execute_result"
    }
   ],
   "source": [
    "sol.checkInclusion(input1_s1, input1_s2)"
   ]
  },
  {
   "cell_type": "code",
   "execution_count": 18,
   "metadata": {},
   "outputs": [
    {
     "data": {
      "text/plain": [
       "False"
      ]
     },
     "execution_count": 18,
     "metadata": {},
     "output_type": "execute_result"
    }
   ],
   "source": [
    "sol.checkInclusion(input2_s1, input2_s2)"
   ]
  },
  {
   "cell_type": "markdown",
   "metadata": {},
   "source": [
    "### Day 19: Online Stock Span\n",
    "\n",
    "Write a class StockSpanner which collects daily price quotes for some stock, and returns the span of that stock's price for the current day.\n",
    "\n",
    "The span of the stock's price today is defined as the maximum number of consecutive days (starting from today and going backwards) for which the price of the stock was less than or equal to today's price.\n",
    "\n",
    "For example, if the price of a stock over the next 7 days were [100, 80, 60, 70, 60, 75, 85], then the stock spans would be [1, 1, 1, 2, 1, 4, 6].\n",
    "\n",
    " \n",
    "\n",
    "Example 1:\n",
    "\n",
    "- Input: [\"StockSpanner\",\"next\",\"next\",\"next\",\"next\",\"next\",\"next\",\"next\"], [[],[100],[80],[60],[70],[60],[75],[85]]\n",
    "- Output: [null,1,1,1,2,1,4,6]\n",
    "Explanation: \n",
    "First, S = StockSpanner() is initialized.  Then:\n",
    "- S.next(100) is called and returns 1,\n",
    "- S.next(80) is called and returns 1,\n",
    "- S.next(60) is called and returns 1,\n",
    "- S.next(70) is called and returns 2,\n",
    "- S.next(60) is called and returns 1,\n",
    "- S.next(75) is called and returns 4,\n",
    "- S.next(85) is called and returns 6.\n",
    "\n",
    "Note that (for example) S.next(75) returned 4, because the last 4 prices\n",
    "(including today's price of 75) were less than or equal to today's price.\n",
    "\n",
    "Note:\n",
    "\n",
    "- Calls to StockSpanner.next(int price) will have 1 <= price <= 10^5.\n",
    "- There will be at most 10000 calls to StockSpanner.next per test case.\n",
    "- There will be at most 150000 calls to StockSpanner.next across all test cases.\n",
    "- The total time limit for this problem has been reduced by 75% for C++, and 50% for all other languages."
   ]
  },
  {
   "cell_type": "code",
   "execution_count": 7,
   "metadata": {},
   "outputs": [],
   "source": [
    "class StockSpanner:\n",
    "    def __init__(self):\n",
    "        self.items = []\n",
    "\n",
    "    def next(self, price: int) -> int:\n",
    "        cur = 1\n",
    "        \n",
    "        # If the value added is greater than or equals the previous,\n",
    "        # pop all items till a greater item. Add the values of all popped items\n",
    "        while self.items and price >= self.items[-1][0]:\n",
    "            cur += self.items.pop()[1]\n",
    "        self.items.append((price, cur))\n",
    "        return cur"
   ]
  },
  {
   "cell_type": "code",
   "execution_count": 26,
   "metadata": {},
   "outputs": [
    {
     "name": "stdout",
     "output_type": "stream",
     "text": [
      "[1, 1, 1, 2, 1, 4, 6]\n"
     ]
    }
   ],
   "source": [
    "# Test Code\n",
    "\n",
    "S = StockSpanner()\n",
    "print([S.next(100), S.next(80), S.next(60), S.next(70), S.next(60), S.next(75), S.next(85)])"
   ]
  },
  {
   "cell_type": "markdown",
   "metadata": {},
   "source": [
    "### Day 20: Kth Smallest Element in a BST\n",
    "\n",
    "Given a binary search tree, write a function kthSmallest to find the kth smallest element in it.\n",
    "\n",
    " \n",
    "\n",
    "Example 1:\n",
    "\n",
    "Input: root = [3,1,4,null,2], k = 1\n",
    "\n",
    "       3\n",
    "      / \\\n",
    "     1   4\n",
    "      \\\n",
    "       2\n",
    "       \n",
    "Output: 1\n",
    "Example 2:\n",
    "\n",
    "Input: root = [5,3,6,2,4,null,null,1], k = 3\n",
    "\n",
    "           5\n",
    "          / \\\n",
    "         3   6\n",
    "        / \\\n",
    "       2   4\n",
    "      /\n",
    "     1\n",
    " \n",
    "Output: 3\n",
    "\n",
    "Follow up:\n",
    "What if the BST is modified (insert/delete operations) often and you need to find the kth smallest frequently? How would you optimize the kthSmallest routine?\n",
    "\n",
    " \n",
    "Constraints:\n",
    "\n",
    "- The number of elements of the BST is between 1 to 10^4.\n",
    "- You may assume k is always valid, 1 ≤ k ≤ BST's total elements."
   ]
  },
  {
   "cell_type": "code",
   "execution_count": 6,
   "metadata": {},
   "outputs": [],
   "source": [
    "class Solution:\n",
    "    def kthSmallest(self, root, k: int) -> int:\n",
    "        stack = []\n",
    "        cur = root\n",
    "        \n",
    "        while True:\n",
    "            # Keep moving till we get to the minimum element\n",
    "            # Append all items we pass through to a stack\n",
    "            if cur is not None:\n",
    "                stack.append(cur)\n",
    "                cur = cur.left\n",
    "            \n",
    "            # When current is None and stack is not None, subtract 1 from k and pop from stack\n",
    "            # if k equals zero, then we're done. Return current\n",
    "            elif stack:\n",
    "                k-=1\n",
    "                cur = stack.pop()\n",
    "                if k == 0: return cur.val\n",
    "                cur = cur.right\n",
    "            else: break"
   ]
  },
  {
   "cell_type": "markdown",
   "metadata": {},
   "source": [
    "### Day 21: Count Square Submatrices with All Ones\n",
    "\n",
    "Given a m * n matrix of ones and zeros, return how many square submatrices have all ones.\n",
    " \n",
    "Example 1:\n",
    "\n",
    "Input: matrix =\n",
    "\n",
    "    [[0,1,1,1],\n",
    "    [1,1,1,1],\n",
    "    [0,1,1,1]]\n",
    "\n",
    "Output: 15\n",
    "\n",
    "Explanation: \n",
    "- There are 10 squares of side 1.\n",
    "- There are 4 squares of side 2.\n",
    "- There is  1 square of side 3.\n",
    "- Total number of squares = 10 + 4 + 1 = 15.\n",
    "\n",
    "Example 2:\n",
    "\n",
    "Input: matrix =\n",
    "\n",
    "    [[1,0,1],\n",
    "    [1,1,0],\n",
    "    [1,1,0]]\n",
    "\n",
    "Output: 7\n",
    "\n",
    "Explanation: \n",
    "- There are 6 squares of side 1.  \n",
    "- There is 1 square of side 2. \n",
    "- Total number of squares = 6 + 1 = 7.\n",
    " \n",
    "\n",
    "Constraints:\n",
    "\n",
    "- 1 <= arr.length <= 300\n",
    "- 1 <= arr[0].length <= 300\n",
    "- 0 <= arr[i][j] <= 1"
   ]
  },
  {
   "cell_type": "code",
   "execution_count": 2,
   "metadata": {},
   "outputs": [],
   "source": [
    "class Solution:\n",
    "    def countSquares(self, matrix) -> int:\n",
    "        m, n = len(matrix), len(matrix[0])\n",
    "        count = 0\n",
    "        \n",
    "        for i in range(m):\n",
    "            for j in range(n):\n",
    "                if matrix[i][j] == 1:\n",
    "                    if i > 0 and j > 0:\n",
    "                        matrix[i][j] = min(matrix[i-1][j-1], matrix[i-1][j], matrix[i][j-1])+1\n",
    "                    count+=matrix[i][j]\n",
    "        return count"
   ]
  },
  {
   "cell_type": "code",
   "execution_count": 3,
   "metadata": {},
   "outputs": [],
   "source": [
    "# Test Code\n",
    "\n",
    "inputMatrix1 = [[0,1,1,1],\n",
    "                [1,1,1,1],\n",
    "                [0,1,1,1]]\n",
    "inputMatrix2 = [[1,0,1],\n",
    "                [1,1,0],\n",
    "                [1,1,0]]\n",
    "\n",
    "sol = Solution()"
   ]
  },
  {
   "cell_type": "code",
   "execution_count": 4,
   "metadata": {},
   "outputs": [
    {
     "data": {
      "text/plain": [
       "15"
      ]
     },
     "execution_count": 4,
     "metadata": {},
     "output_type": "execute_result"
    }
   ],
   "source": [
    "sol.countSquares(inputMatrix1)"
   ]
  },
  {
   "cell_type": "code",
   "execution_count": 5,
   "metadata": {},
   "outputs": [
    {
     "data": {
      "text/plain": [
       "7"
      ]
     },
     "execution_count": 5,
     "metadata": {},
     "output_type": "execute_result"
    }
   ],
   "source": [
    "sol.countSquares(inputMatrix2)"
   ]
  },
  {
   "cell_type": "markdown",
   "metadata": {},
   "source": [
    "### Day 22: Sort Characters By Frequency\n",
    "\n",
    "Given a string, sort it in decreasing order based on the frequency of characters.\n",
    "\n",
    "Example 1:\n",
    "\n",
    "Input:\n",
    "\"tree\"\n",
    "\n",
    "Output:\n",
    "\"eert\"\n",
    "\n",
    "Explanation:\n",
    "- 'e' appears twice while 'r' and 't' both appear once.\n",
    "- So 'e' must appear before both 'r' and 't'. Therefore \"eetr\" is also a valid answer.\n",
    "\n",
    "Example 2:\n",
    "\n",
    "Input:\n",
    "\"cccaaa\"\n",
    "\n",
    "Output:\n",
    "\"cccaaa\"\n",
    "\n",
    "Explanation:\n",
    "- Both 'c' and 'a' appear three times, so \"aaaccc\" is also a valid answer.\n",
    "- Note that \"cacaca\" is incorrect, as the same characters must be together.\n",
    "\n",
    "Example 3:\n",
    "\n",
    "Input:\n",
    "\"Aabb\"\n",
    "\n",
    "Output:\n",
    "\"bbAa\"\n",
    "\n",
    "Explanation:\n",
    "- \"bbaA\" is also a valid answer, but \"Aabb\" is incorrect.\n",
    "- Note that 'A' and 'a' are treated as two different characters."
   ]
  },
  {
   "cell_type": "code",
   "execution_count": 19,
   "metadata": {},
   "outputs": [],
   "source": [
    "class Solution:\n",
    "    def frequencySort(self, s: str) -> str:\n",
    "        \n",
    "        if not s: return s\n",
    "        \n",
    "        store, res = {}, []\n",
    "        # keep a count of items in 's' in store\n",
    "        for i in s:\n",
    "            if i in store: store[i] += 1\n",
    "            else: store[i] = 1\n",
    "        \n",
    "        # Bucket sort technique\n",
    "        # Create a list of lists with range as the max count of the items\n",
    "        # Append all items to the index that matches their count from store\n",
    "        bucket = [[] for _ in range(max(store.values())+1)]\n",
    "        for k, v in store.items(): bucket[v].append(k)\n",
    "        \n",
    "        for i in range(len(bucket)-1, 0, -1):\n",
    "            for j in bucket[i]: res.append(j*i)\n",
    "                \n",
    "        return \"\".join(res)"
   ]
  },
  {
   "cell_type": "code",
   "execution_count": 20,
   "metadata": {},
   "outputs": [],
   "source": [
    "# Test Code\n",
    "\n",
    "input1 = \"tree\"\n",
    "input2 = \"cccaaa\"\n",
    "input3 = \"Aabb\"\n",
    "\n",
    "sol = Solution()"
   ]
  },
  {
   "cell_type": "code",
   "execution_count": 21,
   "metadata": {},
   "outputs": [
    {
     "data": {
      "text/plain": [
       "'eetr'"
      ]
     },
     "execution_count": 21,
     "metadata": {},
     "output_type": "execute_result"
    }
   ],
   "source": [
    "sol.frequencySort(input1)"
   ]
  },
  {
   "cell_type": "code",
   "execution_count": 22,
   "metadata": {},
   "outputs": [
    {
     "data": {
      "text/plain": [
       "'cccaaa'"
      ]
     },
     "execution_count": 22,
     "metadata": {},
     "output_type": "execute_result"
    }
   ],
   "source": [
    "sol.frequencySort(input2)"
   ]
  },
  {
   "cell_type": "code",
   "execution_count": 23,
   "metadata": {},
   "outputs": [
    {
     "data": {
      "text/plain": [
       "'bbAa'"
      ]
     },
     "execution_count": 23,
     "metadata": {},
     "output_type": "execute_result"
    }
   ],
   "source": [
    "sol.frequencySort(input3)"
   ]
  },
  {
   "cell_type": "markdown",
   "metadata": {},
   "source": [
    "### Day 23: Interval List Intersections\n",
    "\n",
    "Given two lists of closed intervals, each list of intervals is pairwise disjoint and in sorted order.\n",
    "\n",
    "Return the intersection of these two interval lists.\n",
    "\n",
    "(Formally, a closed interval [a, b] (with a <= b) denotes the set of real numbers x with a <= x <= b.  The intersection of two closed intervals is a set of real numbers that is either empty, or can be represented as a closed interval.  For example, the intersection of [1, 3] and [2, 4] is [2, 3].)\n",
    "\n",
    "Example 1:\n",
    "\n",
    "- Input: A = [[0,2],[5,10],[13,23],[24,25]], B = [[1,5],[8,12],[15,24],[25,26]]\n",
    "- Output: [[1,2],[5,5],[8,10],[15,23],[24,24],[25,25]]\n",
    "\n",
    "Reminder: The inputs and the desired output are lists of Interval objects, and not arrays or lists.\n",
    "\n",
    "Note:\n",
    "\n",
    "- 0 <= A.length < 1000\n",
    "- 0 <= B.length < 1000\n",
    "- 0 <= A[i].start, A[i].end, B[i].start, B[i].end < 10^9"
   ]
  },
  {
   "cell_type": "code",
   "execution_count": 24,
   "metadata": {},
   "outputs": [],
   "source": [
    "class Solution:\n",
    "    def intervalIntersection(self, A, B):\n",
    "        i, j, res = 0, 0, []\n",
    "        \n",
    "        while i < len(A) and j < len(B):\n",
    "            # Find maximum of both at the first index\n",
    "            # Find the minimum of both at second index\n",
    "            # If 'low' is greater than or equal to 'high', then they overlap\n",
    "            low = max(A[i][0], B[j][0])\n",
    "            high = min(A[i][1], B[j][1])\n",
    "            if low <= high:\n",
    "                res.append([low, high])\n",
    "            \n",
    "            # Whichever has a lower value at second index can be dropped and we move ahead\n",
    "            # If they have equal higher value, then we can drop both and move\n",
    "            if A[i][1] > B[j][1]:\n",
    "                j+=1\n",
    "            elif A[i][1] < B[j][1]:\n",
    "                i+=1\n",
    "            else: i+=1; j+=1\n",
    "        return res"
   ]
  },
  {
   "cell_type": "code",
   "execution_count": 25,
   "metadata": {},
   "outputs": [
    {
     "data": {
      "text/plain": [
       "[[1, 2], [5, 5], [8, 10], [15, 23], [24, 24], [25, 25]]"
      ]
     },
     "execution_count": 25,
     "metadata": {},
     "output_type": "execute_result"
    }
   ],
   "source": [
    "# Test Code\n",
    "\n",
    "inputA = [[0,2],[5,10],[13,23],[24,25]]\n",
    "inputB = [[1,5],[8,12],[15,24],[25,26]]\n",
    "\n",
    "sol = Solution()\n",
    "sol.intervalIntersection(inputA, inputB)"
   ]
  }
 ],
 "metadata": {
  "kernelspec": {
   "display_name": "Python 3",
   "language": "python",
   "name": "python3"
  },
  "language_info": {
   "codemirror_mode": {
    "name": "ipython",
    "version": 3
   },
   "file_extension": ".py",
   "mimetype": "text/x-python",
   "name": "python",
   "nbconvert_exporter": "python",
   "pygments_lexer": "ipython3",
   "version": "3.6.7"
  }
 },
 "nbformat": 4,
 "nbformat_minor": 2
}
